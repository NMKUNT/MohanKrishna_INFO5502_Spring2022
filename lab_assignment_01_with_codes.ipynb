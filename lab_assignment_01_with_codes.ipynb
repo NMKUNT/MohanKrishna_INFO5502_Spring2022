{
  "cells": [
    {
      "cell_type": "markdown",
      "metadata": {
        "id": "view-in-github",
        "colab_type": "text"
      },
      "source": [
        "<a href=\"https://colab.research.google.com/github/NMKUNT/MohanKrishna_INFO5502_Spring2022/blob/main/lab_assignment_01_with_codes.ipynb\" target=\"_parent\"><img src=\"https://colab.research.google.com/assets/colab-badge.svg\" alt=\"Open In Colab\"/></a>"
      ]
    },
    {
      "cell_type": "markdown",
      "metadata": {
        "id": "DymRJbxDBCnf"
      },
      "source": [
        "# **The first Lab-assignment (01/25/2022, 50 points in total)**"
      ]
    },
    {
      "cell_type": "markdown",
      "metadata": {
        "id": "jJDe71iLB616"
      },
      "source": [
        "(1) Write a Python program to count the number of characters in a string. (5 points)\n",
        "\n",
        "Sample String : 'google.com', \n",
        "\n",
        "Expected Result : {'o': 3, 'g': 2, '.': 1, 'e': 1, 'l': 1, 'm': 1, 'c': 1}"
      ]
    },
    {
      "cell_type": "code",
      "execution_count": 2,
      "metadata": {
        "id": "MtKskTzbCLaU",
        "colab": {
          "base_uri": "https://localhost:8080/"
        },
        "outputId": "ce280ae7-33b9-4de1-cddb-96e44bf155cd"
      },
      "outputs": [
        {
          "output_type": "stream",
          "name": "stdout",
          "text": [
            "google.com\n",
            "{'g': 2, 'o': 3, 'l': 1, 'e': 1, '.': 1, 'c': 1, 'm': 1}\n"
          ]
        }
      ],
      "source": [
        "def c_c(st):\n",
        "    dict = {}\n",
        "    for n in st:\n",
        "        ky = dict.keys()\n",
        "        \n",
        "        if n in ky:\n",
        "            dict[n] += 1\n",
        "        else:\n",
        "            dict[n] = 1\n",
        "    return dict\n",
        "s=input()\n",
        "print(c_c(s))"
      ]
    },
    {
      "cell_type": "markdown",
      "metadata": {
        "id": "55W9AMdXCSpV"
      },
      "source": [
        "(2) Write a Python program to sum all the items in a list. (5 points)"
      ]
    },
    {
      "cell_type": "code",
      "execution_count": 5,
      "metadata": {
        "id": "I57NXsauCec2",
        "colab": {
          "base_uri": "https://localhost:8080/"
        },
        "outputId": "b5bdbf6b-9009-4009-e196-1cb6c073e36c"
      },
      "outputs": [
        {
          "output_type": "stream",
          "name": "stdout",
          "text": [
            "1 2 3 4 5\n",
            "15\n"
          ]
        }
      ],
      "source": [
        "l1=list(map(int,input().split()))\n",
        "print(sum(l1))"
      ]
    },
    {
      "cell_type": "markdown",
      "metadata": {
        "id": "4ulBZ6yhCi9F"
      },
      "source": [
        "(3) Write a Python program to get a string from a given string where all occurrences of its first char have been changed to '\\$', except the first char itself. (5 points)\n",
        "\n",
        "Sample String : 'restart', \n",
        "\n",
        "Expected Result : 'resta\\$t'"
      ]
    },
    {
      "cell_type": "code",
      "execution_count": 15,
      "metadata": {
        "id": "Fj0XhwbBCw2o",
        "colab": {
          "base_uri": "https://localhost:8080/"
        },
        "outputId": "660dafd5-11e4-4b93-ad13-d23754aa4f7b"
      },
      "outputs": [
        {
          "output_type": "stream",
          "name": "stdout",
          "text": [
            "restart\n",
            "resta$t\n"
          ]
        }
      ],
      "source": [
        "s=input()\n",
        "s_l=list(s)\n",
        "s1=s_l[0]\n",
        "for i in range(1,len(s_l)):\n",
        "  if s_l[i]==s1:\n",
        "    s_l[i]=\"$\"\n",
        "print(\"\".join(s_l))\n"
      ]
    },
    {
      "cell_type": "markdown",
      "metadata": {
        "id": "_bIP7s1MCzue"
      },
      "source": [
        "(4) Write a program with python which could accept two parameter a and b to calculate and output the result of S, where \n",
        "\n",
        "$\\ S=3.14*(1+a/b)^3$ (5 points)\n",
        "\n"
      ]
    },
    {
      "cell_type": "code",
      "execution_count": 19,
      "metadata": {
        "id": "w79QilHXD3Mg",
        "colab": {
          "base_uri": "https://localhost:8080/"
        },
        "outputId": "12497fe5-24f8-4185-c261-5d48be112839"
      },
      "outputs": [
        {
          "output_type": "stream",
          "name": "stdout",
          "text": [
            "3 5\n",
            "12.861440000000004\n"
          ]
        }
      ],
      "source": [
        "# write your answer here\n",
        "a,b=map(int,input().split())\n",
        "s=3.14*((1+a/b)**3)\n",
        "print(s)\n"
      ]
    },
    {
      "cell_type": "markdown",
      "metadata": {
        "id": "xCa2bK9aD4Q3"
      },
      "source": [
        "(5) Write a Python program to concatenate following dictionaries to create a new one. (5 points)\n",
        "\n",
        "Sample Dictionary : dic1={1:10, 2:20}, dic2={3:30, 4:40}, dic3={5:50,6:60}, \n",
        "\n",
        "Expected Result : {1: 10, 2: 20, 3: 30, 4: 40, 5: 50, 6: 60}\n"
      ]
    },
    {
      "cell_type": "code",
      "execution_count": 45,
      "metadata": {
        "id": "_z4aLqAbEET1",
        "colab": {
          "base_uri": "https://localhost:8080/"
        },
        "outputId": "7339be4a-8192-4d17-9627-482ee4afeb9f"
      },
      "outputs": [
        {
          "output_type": "stream",
          "name": "stdout",
          "text": [
            "{1: 10, 2: 20, 3: 30, 4: 40, 5: 50, 6: 60}\n"
          ]
        }
      ],
      "source": [
        "d1={1:10, 2:20}\n",
        "d2={3:30, 4:40}\n",
        "d3={5:50,6:60}\n",
        "d4 = {}\n",
        "for d in (d1, d2, d3): d4.update(d)\n",
        "print(d4)"
      ]
    },
    {
      "cell_type": "markdown",
      "metadata": {
        "id": "0v48Vqa7FrQh"
      },
      "source": [
        "(6) Write a Python program to check whether an element exists within a tuple. (5 points)"
      ]
    },
    {
      "cell_type": "code",
      "execution_count": 46,
      "metadata": {
        "id": "7WEmgq-DF2P1",
        "colab": {
          "base_uri": "https://localhost:8080/"
        },
        "outputId": "84453126-a9f2-4233-8242-81a47469b49d"
      },
      "outputs": [
        {
          "output_type": "stream",
          "name": "stdout",
          "text": [
            "3 4 7 S s 1\n",
            "4\n",
            "True\n"
          ]
        }
      ],
      "source": [
        "# write your answer here\n",
        "l=list(input().split())\n",
        "tp=tuple(l)\n",
        "k=input()\n",
        "print(k in tp)\n"
      ]
    },
    {
      "cell_type": "markdown",
      "metadata": {
        "id": "vD5PYLMuGga_"
      },
      "source": [
        "(7) Write a Python program to find maximum and the minimum value in a set. (5 points)"
      ]
    },
    {
      "cell_type": "code",
      "execution_count": 30,
      "metadata": {
        "id": "t0D5kdJUGjjw",
        "colab": {
          "base_uri": "https://localhost:8080/"
        },
        "outputId": "82f18cd5-8d99-4e5d-ec88-712ab149e8b4"
      },
      "outputs": [
        {
          "output_type": "stream",
          "name": "stdout",
          "text": [
            "2 3 1 4 111 4\n",
            "111   1\n"
          ]
        }
      ],
      "source": [
        "l=list(map(int,input().split()))\n",
        "s=set(l)\n",
        "l1=list(s)\n",
        "print(l1[len(l1)-1],\" \",l1[0])"
      ]
    },
    {
      "cell_type": "markdown",
      "metadata": {
        "id": "uHkd-y5VhVWC"
      },
      "source": [
        "(8) Write a Python program to randomly divide the students in this class into six groups for term projects, each group should have at least 4 students but no more than 6 students (including 6). Here is the students list: (5 points)\n",
        "\n",
        "studnet_list = ['ja0964','sa1198','sb1357','vb0218','sc1229','kg0569','kg0470','sg1297','bg0320','fh0141','jl1252','sk1386',\n",
        "           'ak0956','sk1390','sk1458','sk1313','ak0934','vm0377','nm0618','sm1640','sm1907','gn0108','pr0353','dr0609','ms1500','aos0040','ds0814', 'av0659','nv0234','hy0232']"
      ]
    },
    {
      "cell_type": "code",
      "execution_count": 39,
      "metadata": {
        "id": "3iGbmcOBhTwy",
        "colab": {
          "base_uri": "https://localhost:8080/"
        },
        "outputId": "fb8425b6-725c-4976-f601-1d40c3c9234c"
      },
      "outputs": [
        {
          "output_type": "stream",
          "name": "stdout",
          "text": [
            "['hy0232', 'ak0934', 'nv0234', 'aos0040']\n",
            "['bg0320', 'sk1458', 'gn0108', 'vm0377', 'fh0141']\n",
            "['ms1500', 'nm0618', 'sm1640', 'kg0569', 'sk1390']\n",
            "['sc1229', 'dr0609', 'sb1357', 'ds0814', 'sk1313']\n",
            "['av0659', 'sm1907', 'kg0470', 'vb0218', 'sk1386']\n",
            "['jl1252', 'sa1198', 'pr0353', 'ak0956', 'ja0964', 'sg1297']\n"
          ]
        }
      ],
      "source": [
        "import numpy as np, random\n",
        "studnet_list = ['ja0964','sa1198','sb1357','vb0218','sc1229','kg0569','kg0470','sg1297','bg0320','fh0141','jl1252','sk1386', 'ak0956','sk1390','sk1458','sk1313','ak0934','vm0377','nm0618','sm1640','sm1907','gn0108','pr0353','dr0609','ms1500','aos0040','ds0814', 'av0659','nv0234','hy0232']\n",
        "# below are the possible chances of dividing 30 people\n",
        "length1 =[4,4,5,5,6,6]\n",
        "length2 =[4,4,4,6,6,6]\n",
        "length3 =[4,5,5,5,5,6]\n",
        "length4 =[5,5,5,5,5,5]\n",
        "\n",
        "l= [length1,length2,length3,length4]\n",
        "length = random.choice(l) # picks one of the lengths\n",
        "\n",
        "\n",
        "\n",
        "result = []\n",
        "\n",
        "\n",
        "for length in length:\n",
        "  group = random.sample(studnet_list, length) # distributes the people in the groups\n",
        "  studnet_list = list(set(studnet_list) ^ set(group))\n",
        "  result = result + [group]\n",
        "  ##445566 444666 455556 555555  \n",
        "for row in result:\n",
        "    print(row, end= '\\n')"
      ]
    },
    {
      "cell_type": "markdown",
      "metadata": {
        "id": "xx2F1l-1uqXC"
      },
      "source": [
        "(9) Write a Python program to find the duplicate elements in a given array of \n",
        "\n",
        "integers. Return -1 If there are no such elements. (5 points)"
      ]
    },
    {
      "cell_type": "code",
      "execution_count": 7,
      "metadata": {
        "id": "TEU6OwHYuqXD",
        "colab": {
          "base_uri": "https://localhost:8080/"
        },
        "outputId": "37ff1672-d56d-4df2-d567-1d381c1c01ce"
      },
      "outputs": [
        {
          "output_type": "stream",
          "name": "stdout",
          "text": [
            "5\n",
            "7\n"
          ]
        }
      ],
      "source": [
        "# write your answer here\n",
        "arrayofintegers = [1, 2, 3, 4,5,5,7,7,8];     \n",
        "c = 0;    \n",
        "for i in range(0, len(arrayofintegers)):    \n",
        "    for j in range(i+1, len(arrayofintegers)):    \n",
        "        if(arrayofintegers[i] == arrayofintegers[j]):    \n",
        "            print(arrayofintegers[j]);\n",
        "            c +=1\n",
        "if c==0:\n",
        "  print(-1);"
      ]
    },
    {
      "cell_type": "markdown",
      "metadata": {
        "id": "opRASslYuqXD"
      },
      "source": [
        "(10) Write a Python program to select all the Sundays of a specified year. (5 extra points)"
      ]
    },
    {
      "cell_type": "code",
      "execution_count": 33,
      "metadata": {
        "id": "gDyCkW-ZuqXD",
        "colab": {
          "base_uri": "https://localhost:8080/"
        },
        "outputId": "95690811-1a70-4dc5-bb07-81f68940c6cf"
      },
      "outputs": [
        {
          "output_type": "stream",
          "name": "stdout",
          "text": [
            "2022\n",
            "2022-01-02\n",
            "2022-01-09\n",
            "2022-01-16\n",
            "2022-01-23\n",
            "2022-01-30\n",
            "2022-02-06\n",
            "2022-02-13\n",
            "2022-02-20\n",
            "2022-02-27\n",
            "2022-03-06\n",
            "2022-03-13\n",
            "2022-03-20\n",
            "2022-03-27\n",
            "2022-04-03\n",
            "2022-04-10\n",
            "2022-04-17\n",
            "2022-04-24\n",
            "2022-05-01\n",
            "2022-05-08\n",
            "2022-05-15\n",
            "2022-05-22\n",
            "2022-05-29\n",
            "2022-06-05\n",
            "2022-06-12\n",
            "2022-06-19\n",
            "2022-06-26\n",
            "2022-07-03\n",
            "2022-07-10\n",
            "2022-07-17\n",
            "2022-07-24\n",
            "2022-07-31\n",
            "2022-08-07\n",
            "2022-08-14\n",
            "2022-08-21\n",
            "2022-08-28\n",
            "2022-09-04\n",
            "2022-09-11\n",
            "2022-09-18\n",
            "2022-09-25\n",
            "2022-10-02\n",
            "2022-10-09\n",
            "2022-10-16\n",
            "2022-10-23\n",
            "2022-10-30\n",
            "2022-11-06\n",
            "2022-11-13\n",
            "2022-11-20\n",
            "2022-11-27\n",
            "2022-12-04\n",
            "2022-12-11\n",
            "2022-12-18\n",
            "2022-12-25\n"
          ]
        }
      ],
      "source": [
        "# write your answer here\n",
        "\n",
        "from datetime import date, timedelta\n",
        "\n",
        "def sun(y):\n",
        "   k = date(y, 1, 1)\n",
        "   k += timedelta(days = 6 - k.weekday())\n",
        "   while k.year == y:\n",
        "      yield k\n",
        "      k += timedelta(days = 7)\n",
        "k=int(input())\n",
        "for m in sun(k):\n",
        "   print(m)"
      ]
    }
  ],
  "metadata": {
    "colab": {
      "collapsed_sections": [],
      "name": "lab_assignment_01.ipynb",
      "provenance": [],
      "include_colab_link": true
    },
    "kernelspec": {
      "display_name": "Python 3",
      "language": "python",
      "name": "python3"
    },
    "language_info": {
      "codemirror_mode": {
        "name": "ipython",
        "version": 3
      },
      "file_extension": ".py",
      "mimetype": "text/x-python",
      "name": "python",
      "nbconvert_exporter": "python",
      "pygments_lexer": "ipython3",
      "version": "3.8.5"
    }
  },
  "nbformat": 4,
  "nbformat_minor": 0
}