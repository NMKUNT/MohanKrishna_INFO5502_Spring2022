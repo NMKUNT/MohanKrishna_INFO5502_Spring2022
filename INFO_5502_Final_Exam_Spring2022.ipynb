{
  "cells": [
    {
      "cell_type": "markdown",
      "metadata": {
        "id": "view-in-github",
        "colab_type": "text"
      },
      "source": [
        "<a href=\"https://colab.research.google.com/github/NMKUNT/MohanKrishna_INFO5502_Spring2022/blob/main/INFO_5502_Final_Exam_Spring2022.ipynb\" target=\"_parent\"><img src=\"https://colab.research.google.com/assets/colab-badge.svg\" alt=\"Open In Colab\"/></a>"
      ]
    },
    {
      "cell_type": "markdown",
      "metadata": {
        "id": "FdjfTvs24QaC"
      },
      "source": [
        "### INFO 5502 Final Exam (05/12/2022, 240 points in total)"
      ]
    },
    {
      "cell_type": "markdown",
      "metadata": {
        "id": "C7JyYo6x4QaF"
      },
      "source": [
        "<span style='background:yellow'>**Question 1 (40 pt).**</span> We want to create a birthday frequency graph using the data on births in the United States, provided by the Centers for Disease Control (CDC). You can download the data from my GitHub link:https://github.com/unt-iialab/info5502-spring2022/blob/main/datasets/births.csv \n",
        "\n",
        "Please visualize the data as the following figure using python (you can use any data visualization packages):\n"
      ]
    },
    {
      "cell_type": "code",
      "source": [
        "import numpy as np\n",
        "import pandas as pd\n",
        "import matplotlib.pyplot as plt\n",
        "import matplotlib as mpl\n",
        "plt.style.use('seaborn-whitegrid')\n",
        "%matplotlib inline"
      ],
      "metadata": {
        "id": "SYmlstE7758f"
      },
      "execution_count": 1,
      "outputs": []
    },
    {
      "cell_type": "code",
      "execution_count": 2,
      "metadata": {
        "colab": {
          "base_uri": "https://localhost:8080/"
        },
        "id": "i2mVL8sp4QaG",
        "outputId": "2b1cdca5-05ad-4357-924f-282b75dc1e51"
      },
      "outputs": [
        {
          "output_type": "stream",
          "name": "stdout",
          "text": [
            "   year  month  day gender  births\n",
            "0  1969      1  1.0      F    4046\n",
            "1  1969      1  1.0      M    4440\n",
            "2  1969      1  2.0      F    4454\n",
            "3  1969      1  2.0      M    4548\n",
            "4  1969      1  3.0      F    4548\n",
            "5  1969      1  3.0      M    4994\n",
            "6  1969      1  4.0      F    4440\n",
            "7  1969      1  4.0      M    4520\n",
            "8  1969      1  5.0      F    4192\n",
            "9  1969      1  5.0      M    4198\n",
            "<class 'pandas.core.frame.DataFrame'>\n",
            "RangeIndex: 15547 entries, 0 to 15546\n",
            "Data columns (total 5 columns):\n",
            " #   Column  Non-Null Count  Dtype  \n",
            "---  ------  --------------  -----  \n",
            " 0   year    15547 non-null  int64  \n",
            " 1   month   15547 non-null  int64  \n",
            " 2   day     15067 non-null  float64\n",
            " 3   gender  15547 non-null  object \n",
            " 4   births  15547 non-null  int64  \n",
            "dtypes: float64(1), int64(3), object(1)\n",
            "memory usage: 607.4+ KB\n",
            "None\n"
          ]
        }
      ],
      "source": [
        "data = pd.read_csv(\"https://raw.githubusercontent.com/unt-iialab/info5502-spring2022/main/datasets/births.csv\")\n",
        "print(data.head(10))\n",
        "print(data.info())"
      ]
    },
    {
      "cell_type": "code",
      "source": [
        "percentiles = np.percentile(data['births'], [25, 50, 75]) # let us take every 25th percentiles, so that we can find mean and standard deviation\n",
        "mean, std_dev = percentiles[1], 0.74 * (percentiles[2] - percentiles[0]) # we are taking 50th percentile as mean, and difference between 75th and 25th times 0.74 as the standard deviation \n",
        "births = data.query('(births > @mean - 5 * @std_dev) & (births < @mean + 5 * @std_dev)') # restricting to 5 standard deviations\n",
        "\n",
        "births['day'] = births['day'].astype(int) # converting data type to int as it is in float. And the day is always an integer.\n",
        "\n",
        "births.index = pd.to_datetime(10000 * births.year +\n",
        "                              100 * births.month +\n",
        "                              births.day, format='%Y%m%d')  # creating an index in the yyyymmdd format.\n",
        "births_by_date = births.pivot_table('births',\n",
        "                                    [births.index.month, births.index.day])\n",
        "births_by_date.index = [pd.datetime(2012, month, day)\n",
        "                        for (month, day) in births_by_date.index]"
      ],
      "metadata": {
        "id": "_SNHpr1e9vPD",
        "colab": {
          "base_uri": "https://localhost:8080/"
        },
        "outputId": "e0b490cf-edaa-4d11-eee4-b15f885e173b"
      },
      "execution_count": 3,
      "outputs": [
        {
          "output_type": "stream",
          "name": "stderr",
          "text": [
            "/usr/local/lib/python3.7/dist-packages/ipykernel_launcher.py:5: SettingWithCopyWarning: \n",
            "A value is trying to be set on a copy of a slice from a DataFrame.\n",
            "Try using .loc[row_indexer,col_indexer] = value instead\n",
            "\n",
            "See the caveats in the documentation: https://pandas.pydata.org/pandas-docs/stable/user_guide/indexing.html#returning-a-view-versus-a-copy\n",
            "  \"\"\"\n",
            "/usr/local/lib/python3.7/dist-packages/ipykernel_launcher.py:13: FutureWarning: The pandas.datetime class is deprecated and will be removed from pandas in a future version. Import from datetime module instead.\n",
            "  del sys.path[0]\n"
          ]
        }
      ]
    },
    {
      "cell_type": "code",
      "source": [
        "fig, ax = plt.subplots(figsize=(12, 4))\n",
        "births_by_date.plot(ax=ax);"
      ],
      "metadata": {
        "colab": {
          "base_uri": "https://localhost:8080/",
          "height": 273
        },
        "id": "wdo3IanX9v9R",
        "outputId": "33f7c473-9987-441c-ec31-3b6e227924d3"
      },
      "execution_count": 4,
      "outputs": [
        {
          "output_type": "display_data",
          "data": {
            "text/plain": [
              "<Figure size 864x288 with 1 Axes>"
            ],
            "image/png": "[encoded data removed]"
          },
          "metadata": {
            "needs_background": "light"
          }
        }
      ]
    },
    {
      "cell_type": "markdown",
      "metadata": {
        "id": "j89iNq5I4QaI"
      },
      "source": [
        "<span style='background:yellow'>**Question 2 (40 pt).**</span> Write a python program to evaluate the text classification performance using accuracy, precision, recall, and f1 score. \n",
        "\n",
        "Accuracy = (TP + TN) / (TP+ TN+ FP+ FN)\n",
        "\n",
        "Recall = (TP) / (TP+FN)\n",
        "\n",
        "Precision = (TP) / (TP+FP)\n",
        "\n",
        "F1 Score = (2*Precision*Recall) / (Precision + Recall)\n",
        "\n",
        "Here is the confusion matrix of a text classfication task (six categories) on the testing data. \n"
      ]
    },
    {
      "cell_type": "code",
      "source": [
        "import numpy as np\n",
        "\n",
        "confusion_matrix = [[157,46,25,22,15,3],\n",
        "              [28,151,45,18,1,6],\n",
        "              [11,38,135,14,3,7],\n",
        "              [11,15,18,70,6,4],\n",
        "              [14,12,14,7,56,2],\n",
        "              [12,7,6,5,5,16]]\n",
        "\n",
        "c = np.array(confusion_matrix)\n",
        "\n",
        "\n",
        "for i in range(len(c)):\n",
        "    \n",
        "    accuracy = 0\n",
        "    precision = 0\n",
        "    recall = 0\n",
        "    f1_score = 0\n",
        "    \n",
        "    TP = c[i,i]\n",
        "    FP = c[i,:].sum() - TP\n",
        "    FN = c[:,i].sum() - TP\n",
        "    TN = c.sum().sum() - (TP+FP+FN)\n",
        "    \n",
        "    accuracy = (TP+TN)/c.sum().sum()\n",
        "    precision = TP/(TP+FP)\n",
        "    recall = TP/(TP+FN)\n",
        "    f1_score = 2*precision*recall/(precision+recall)\n",
        "    \n",
        "    print(f'class {i}')\n",
        "    print(f'accuracy {accuracy}')\n",
        "    print(f'precision {precision}')\n",
        "    print(f'recall {recall}')\n",
        "    print(f'F1-Score {f1_score}')\n",
        "    print()"
      ],
      "metadata": {
        "id": "M0DTjr2KKYc6",
        "colab": {
          "base_uri": "https://localhost:8080/"
        },
        "outputId": "5079cbce-c0a7-4332-df22-166ad200461b"
      },
      "execution_count": 12,
      "outputs": [
        {
          "output_type": "stream",
          "name": "stdout",
          "text": [
            "class 0\n",
            "accuracy 0.8139303482587065\n",
            "precision 0.585820895522388\n",
            "recall 0.6738197424892703\n",
            "F1-Score 0.626746506986028\n",
            "\n",
            "class 1\n",
            "accuracy 0.7850746268656716\n",
            "precision 0.606425702811245\n",
            "recall 0.5613382899628253\n",
            "F1-Score 0.583011583011583\n",
            "\n",
            "class 2\n",
            "accuracy 0.8199004975124378\n",
            "precision 0.6490384615384616\n",
            "recall 0.5555555555555556\n",
            "F1-Score 0.598669623059867\n",
            "\n",
            "class 3\n",
            "accuracy 0.8805970149253731\n",
            "precision 0.5645161290322581\n",
            "recall 0.5147058823529411\n",
            "F1-Score 0.5384615384615384\n",
            "\n",
            "class 4\n",
            "accuracy 0.9213930348258706\n",
            "precision 0.5333333333333333\n",
            "recall 0.6511627906976745\n",
            "F1-Score 0.5863874345549738\n",
            "\n",
            "class 5\n",
            "accuracy 0.9432835820895522\n",
            "precision 0.3137254901960784\n",
            "recall 0.42105263157894735\n",
            "F1-Score 0.3595505617977528\n",
            "\n"
          ]
        }
      ]
    },
    {
      "cell_type": "markdown",
      "metadata": {
        "id": "91F_B1qW4QaJ"
      },
      "source": [
        "<span style='background:yellow'>**Question 3 (100 pt, each sub-question is 10 pt).**</span> \n",
        "\n",
        "Part A: Given Inetd dataset, an intrusion detection dataset that contains 2 columns. The first column represents a process ID number (PID) and the second column represents a system call. The goal is to extract the entire system call sequence by its PID, then tokenize and parse each sequence into 25-grams. After this, we’ll split the data into training and testing sets. Next, we ensure data quality in the training dataset by removing duplicate sequences within each class and overlapped sequences between both classes. To ensure a fair evaluation, we also clean the testing set by repeating the previous step. You will implement a Decision Tree model to train and test on the training set and testing set that we just clean. \n",
        "\n",
        "\n",
        "Part B: As the data type is sequential, we want to know how similar the sequences from both classes are and visualize how the similarity scores vary in different sequence lengths. Compute a cosine similarity score of 100 random pairs from both classes and get a median cosine similarity. Repeat this step in different sequence lengths (5, 10, 15, and 20). Plot a line chart to visualize how the median cosine similarities vary through sequence lengths of 5 to 25. \n",
        "\n",
        "You can download the datasets from github: https://github.com/unt-iialab/info5502-spring2022/tree/main/finalexam/q4\n",
        "\n",
        "\n",
        "Step by step instructions and questions:\n",
        "\n",
        "(1) Attached are the Normal and Intrusion data folders. Read in the data and store them in two separate dataframes. Combine the system calls (the second column) from the same PID (the first column) into a sequence or a string. \n",
        "\n",
        "(2) Parse an entire sequence into smaller sequences of size 25. (Hint: Use word_tokenize and ngrams from nltk library to parse).\n",
        "\n",
        "(3) Add labels to the data, and partition the labeled data into training data and testing data with a ratio of 70/30.\n",
        "\n",
        "(4) As the dataset has a lot of duplicate sequences, make sure that the testing data only contain unique sequences and that these sequences do not exist in the training data. Condense training data and testing data into two sets. Take the difference between the testing set and training set to remove the overlapped sequences from the testing data. \n",
        "\n",
        "(5) The sequences from each class can be repetitive, and some of these sequences may have different labels. Therefore, we need to remove the duplicate sequences within each class and the overlapped sequences from the Intrusion class. Start out by separating the Normal class and Intrusion class in the training data. Use the same concept in Question 4 to remove duplicate sequences and overlapped sequences from the training data.\n",
        "\n",
        "(6) Repeat Question 5 to clean the testing data.\n",
        "\n",
        "(7) Bootstrap the training data to get the same number of sequences from each class. Train and evaluate a Decision Tree model using the training data and testing data that we just clean. How is the performance?\n",
        "\n",
        "(8) Randomly sample 100 pairs of sequences from both classes and calculate the median cosine similarity.\n",
        "\n",
        "(9) Refer back to Question 2, parse the data into a length of 5, 10, 15, and 20. Clean the data from each class using Question 5. For each sequence length, calculate the median cosine similarity of 100 random pairs of sequences from both classes. \n",
        "\n",
        "(10) Plot a line chart to visualize how the median cosine similarities vary through different sequence lengths from 5 to 25.\n"
      ]
    },
    {
      "cell_type": "code",
      "source": [
        "normalSet = pd.read_csv(\"https://raw.githubusercontent.com/unt-iialab/info5502-spring2022/main/finalexam/q4/inetd-normal.int\")\n",
        "intrusionSet = pd.read_csv(\"https://raw.githubusercontent.com/unt-iialab/info5502-spring2022/main/finalexam/q4/inetd-intrusion.int\")\n",
        "\n"
      ],
      "metadata": {
        "id": "d6KwxczuP2EM"
      },
      "execution_count": 6,
      "outputs": []
    },
    {
      "cell_type": "code",
      "execution_count": 7,
      "metadata": {
        "id": "mwQrwOU34Qaa",
        "colab": {
          "base_uri": "https://localhost:8080/"
        },
        "outputId": "c7233d87-31d1-4a63-e099-df3c64e76f00"
      },
      "outputs": [
        {
          "output_type": "stream",
          "name": "stdout",
          "text": [
            "167 90    False\n",
            "dtype: bool\n",
            "167 90    False\n",
            "dtype: bool\n"
          ]
        }
      ],
      "source": [
        "print(normalSet.any().isna())\n",
        "print(intrusionSet.any().isna())"
      ]
    },
    {
      "cell_type": "markdown",
      "source": [
        "\n",
        "From the above result, we can see that ther are no null values in both the datasets"
      ],
      "metadata": {
        "id": "B_8niPJsQVYv"
      }
    },
    {
      "cell_type": "code",
      "source": [
        "print(normalSet[normalSet.duplicated()])\n",
        "print(intrusionSet[intrusionSet.duplicated()])"
      ],
      "metadata": {
        "colab": {
          "base_uri": "https://localhost:8080/"
        },
        "id": "ILBbZeVkQR2N",
        "outputId": "f9125209-05cb-4502-8ffe-6814c991c78f"
      },
      "execution_count": 8,
      "outputs": [
        {
          "output_type": "stream",
          "name": "stdout",
          "text": [
            "      167 90\n",
            "1    167 125\n",
            "6      167 5\n",
            "8     167 90\n",
            "9     167 90\n",
            "10    167 90\n",
            "..       ...\n",
            "534   2669 6\n",
            "535   2669 6\n",
            "536   2669 6\n",
            "537   2669 6\n",
            "538   2669 6\n",
            "\n",
            "[488 rows x 1 columns]\n",
            "       167 90\n",
            "1     167 125\n",
            "6       167 5\n",
            "8      167 90\n",
            "9      167 90\n",
            "10     167 90\n",
            "...       ...\n",
            "8364   4470 6\n",
            "8365   4470 6\n",
            "8366   4470 6\n",
            "8367   4470 6\n",
            "8368   4470 6\n",
            "\n",
            "[8017 rows x 1 columns]\n"
          ]
        }
      ]
    },
    {
      "cell_type": "markdown",
      "source": [
        "We can see that there are duplicates in both the datasets"
      ],
      "metadata": {
        "id": "QB-vo7ZpQ4BO"
      }
    },
    {
      "cell_type": "markdown",
      "metadata": {
        "id": "a1T7ZCX_4Qaa"
      },
      "source": [
        "<span style='background:yellow'>**Question 4 (60 pt, each sub-question is 20 pt).**</span> In the world of business, the importance of the customers’ reviews for any product is not ignorable. The impact of customers’ reviews on customer’s decision making is significant. Therefore, businesses try to increase this impact by increasing the ratio of the positive reviews to negative reviews. One effective way to increase the ratio is offering the incentives such as small gifts or free next services to customers to post the reviews for item they purchase or used. However, it is not always the case, and customer may post their reviews without receiving or accepting the incentives. So, the reviews could be in either incentivized or non-incentivized category.\n",
        "\n",
        "\n",
        "Considering the importance of reviews, in this question you need to compare these two categories of reviews. One method to compare the effectiveness of two categories is conducting the A/B testing.\n",
        "\n",
        "\n",
        "The Software_Reviews dataset is collected from software review products, and it is combination of several small datasets. Find the dataset as an attachment on the left side of the page.\n",
        "\n",
        "\n",
        "You can downlaod the dataset from github: https://github.com/unt-iialab/info5502-spring2022/blob/main/finalexam/Software_Reviews_csv_files_S.csv\n",
        "\n",
        "(1) Clean the dataset before you use (You need to know this dataset is combinations of the several CSV files with title rows. So, there are extra title rows in the middle of the file, which they need to be removed.)\n",
        "\n",
        "\n",
        "(2) Apply an A/B test\": consider the “incentivized” column as main column for A & B groups.\n",
        "\n",
        "a. The “incentivized” column includes ‘NominalGift’, ‘VendorReferredIncentivized’, ‘NoIncentive’, ‘NonNominalGift’, ‘VendorReferred’, ‘None’\n",
        "\n",
        "b. Group A (Incentive): ‘NominalGift’, and ‘VendorReferredIncentivized’\n",
        "\n",
        "c. Group B (NoIncentive): ‘NoIncentive’, ‘NonNominalGift’, ‘VendorReferred’\n",
        "\n",
        "d. Make the decision if ‘None’ includes in either Group A or B or remove that.\n",
        "\n",
        "e. The “OverAllRating” is another column that is used to compare groups A and B.\n",
        "\n",
        "Which one A or B group has higher “OverAllRating”?\n",
        "\n",
        "\n",
        "(3) Draw the A/B testing related visualizations."
      ]
    },
    {
      "cell_type": "code",
      "execution_count": 9,
      "metadata": {
        "id": "UsooxmTH4Qab"
      },
      "outputs": [],
      "source": [
        "data = pd.read_csv(\"https://raw.githubusercontent.com/unt-iialab/info5502-spring2022/main/finalexam/Software_Reviews_csv_files_S.csv\")"
      ]
    },
    {
      "cell_type": "code",
      "source": [
        "import pandas as pd\n",
        "import numpy as np\n",
        "from scipy.stats import norm\n",
        "\n",
        "group_a = data[(data['incentivized'] == \"NominalGift\") | (data['incentivized'] == \"VendorReferredIncentivized\")]['OverAllRating']\n",
        "group_b = data[(data['incentivized'] == \"NoIncentive\") | (data['incentivized'] == \"NonNominalGift\") | (data['incentivized'] == \"VendorReferred\")]['OverAllRating']\n",
        "\n",
        "N_con = group_a.shape[0]\n",
        "N_exp = group_b.shape[0]\n",
        "\n",
        "# Significance Level\n",
        "alpha = 0.05\n",
        "\n",
        "\n",
        "# con is control exp is experimental\n",
        "\n",
        "mean_con = np.mean(group_a)\n",
        "mean_exp = np.mean(group_b)\n",
        "\n",
        "#changing the datatype\n",
        "group_a = group_a.astype('int')\n",
        "group_b = group_b.astype('int')\n",
        "\n",
        "#variance\n",
        "variance_con = np.var(group_a)\n",
        "variance_exp = np.var(group_b)\n",
        "\n",
        "# Pooled Variance\n",
        "pooled_variance = np.sqrt(variance_con/N_con + variance_exp/N_exp)\n",
        "\n",
        "# Test statistics\n",
        "T = (mean_con-mean_exp)/np.sqrt(variance_con/N_con + variance_exp/N_exp)\n",
        "\n",
        "# two sided test and using symmetry property of Normal distibution so we multiple with 2\n",
        "p_value = norm.sf(T)*2\n",
        "\n",
        "# Z-critical value\n",
        "Z_crit  = norm.ppf(1-alpha/2)\n",
        "\n",
        "# Margin of error\n",
        "m = Z_crit*pooled_variance\n",
        "\n",
        "# Confidence Interval\n",
        "CI = [(mean_con - mean_exp) - m, (mean_con - mean_exp) + m]\n",
        "\n",
        "\n",
        "print(\"Test Statistics stat: \", T)\n",
        "print(\"Z-critical: \", Z_crit)\n",
        "print(\"P_value: \", p_value)\n",
        "print(\"Confidence Interval of 2 sample Z-test for proportions: \", np.round(CI,2))\n",
        "\n",
        "import matplotlib.pyplot as plt\n",
        "z = np.arange(-3,3,  0.1)\n",
        "plt.plot(z, norm.pdf(z), label = 'Standard Normal Distribution',color = 'Red',linewidth = 2.5)\n",
        "plt.fill_between(z[z>Z_crit], norm.pdf(z[z>Z_crit]), label = 'Rejection Region',color ='g' )\n",
        "plt.fill_between(z[z<(-1)*Z_crit], norm.pdf(z[z<(-1)*Z_crit]), label = 'Rejection Region',color ='g' )\n",
        "plt.title(\"Two Sample Z-test rejection region\")\n",
        "plt.legend()\n",
        "plt.show()  "
      ],
      "metadata": {
        "id": "56E6Lh-3RRcu",
        "colab": {
          "base_uri": "https://localhost:8080/",
          "height": 381
        },
        "outputId": "de3963fb-054b-4695-e518-448f4c7a9698"
      },
      "execution_count": 10,
      "outputs": [
        {
          "output_type": "stream",
          "name": "stderr",
          "text": [
            "/usr/local/lib/python3.7/dist-packages/ipykernel_launcher.py:32: RuntimeWarning: invalid value encountered in double_scalars\n",
            "/usr/local/lib/python3.7/dist-packages/ipykernel_launcher.py:44: RuntimeWarning: invalid value encountered in double_scalars\n"
          ]
        },
        {
          "output_type": "stream",
          "name": "stdout",
          "text": [
            "Test Statistics stat:  nan\n",
            "Z-critical:  1.959963984540054\n",
            "P_value:  nan\n",
            "Confidence Interval of 2 sample Z-test for proportions:  [nan nan]\n"
          ]
        },
        {
          "output_type": "display_data",
          "data": {
            "text/plain": [
              "<Figure size 432x288 with 1 Axes>"
            ],
            "image/png": "[encoded data removed]"
          },
          "metadata": {
            "needs_background": "light"
          }
        }
      ]
    }
  ],
  "metadata": {
    "kernelspec": {
      "display_name": "Python 3",
      "language": "python",
      "name": "python3"
    },
    "language_info": {
      "codemirror_mode": {
        "name": "ipython",
        "version": 3
      },
      "file_extension": ".py",
      "mimetype": "text/x-python",
      "name": "python",
      "nbconvert_exporter": "python",
      "pygments_lexer": "ipython3",
      "version": "3.8.5"
    },
    "colab": {
      "name": "INFO 5502-Final Exam-Spring2022.ipynb",
      "provenance": [],
      "collapsed_sections": [],
      "include_colab_link": true
    }
  },
  "nbformat": 4,
  "nbformat_minor": 0
}