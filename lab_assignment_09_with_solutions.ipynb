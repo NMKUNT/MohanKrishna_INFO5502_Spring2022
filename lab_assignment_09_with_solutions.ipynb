{
  "cells": [
    {
      "cell_type": "markdown",
      "metadata": {
        "id": "view-in-github",
        "colab_type": "text"
      },
      "source": [
        "<a href=\"https://colab.research.google.com/github/NMKUNT/MohanKrishna_INFO5502_Spring2022/blob/main/lab_assignment_09_with_solutions.ipynb\" target=\"_parent\"><img src=\"https://colab.research.google.com/assets/colab-badge.svg\" alt=\"Open In Colab\"/></a>"
      ]
    },
    {
      "cell_type": "markdown",
      "metadata": {
        "id": "CLw2kxYwXVM5"
      },
      "source": [
        "## The ninth Lab-assignment (04/14/2022, 50 points in total)"
      ]
    },
    {
      "cell_type": "markdown",
      "metadata": {
        "id": "3BO0hdz8XVM7"
      },
      "source": [
        "The purpose of this assignment is to practice different Hypothesis Testing."
      ]
    },
    {
      "cell_type": "markdown",
      "metadata": {
        "id": "bdlNa_9EXVM8"
      },
      "source": [
        "### Question 1 (15 points) \n",
        "\n",
        "During the 1980s, the general consensus is that about 5% of the nation’s children had autism. Some claimed that increases certain chemicals in the environment has led to an increase in autism. \n",
        "\n",
        "(1) Write an appropriate hypothesis test for this situation (5 points).  \n",
        "\n",
        "(2) Give an appropriate test for this hypothesis, stating what are the necessary conditions for performing the test (5 points). \n",
        "\n",
        "(3) A recent study examined 384 children and found that 46 showed signs of autism. Perform a test of the hypothesis and state the p-value (5 points). "
      ]
    },
    {
      "cell_type": "code",
      "execution_count": 1,
      "metadata": {
        "id": "5jZkK5fOXVNN",
        "colab": {
          "base_uri": "https://localhost:8080/",
          "height": 70
        },
        "outputId": "e52eaafe-46a1-40c5-976c-5ca028d64617"
      },
      "outputs": [
        {
          "output_type": "execute_result",
          "data": {
            "text/plain": [
              "'\\n1)As we have a good amount of sample, we can use Z Test to perform the hypothesis to find out if it is null or alternative.\\n\\n2) As we have decided on Z test, primary requirement is the sample size, which is greater than 30.\\nlet us take 95 % confidence level or 0.05 critical value, so that our test gives accurate results.\\n\\n\\n'"
            ],
            "application/vnd.google.colaboratory.intrinsic+json": {
              "type": "string"
            }
          },
          "metadata": {},
          "execution_count": 1
        }
      ],
      "source": [
        "# You answer here\n",
        "'''\n",
        "1)As we have a good amount of sample, we can use Z Test to perform the hypothesis to find out if it is null or alternative.\n",
        "\n",
        "2) As we have decided on Z test, primary requirement is the sample size, which is greater than 30.\n",
        "let us take 95 % confidence level or 0.05 critical value, so that our test gives accurate results.\n",
        "\n",
        "\n",
        "'''\n"
      ]
    },
    {
      "cell_type": "code",
      "source": [
        "import math"
      ],
      "metadata": {
        "id": "xBqI10xjFSZX"
      },
      "execution_count": 2,
      "outputs": []
    },
    {
      "cell_type": "code",
      "execution_count": 3,
      "metadata": {
        "id": "sPzYh6qaXVNP",
        "colab": {
          "base_uri": "https://localhost:8080/"
        },
        "outputId": "43432d57-1f79-4b76-9c32-140f6643496a"
      },
      "outputs": [
        {
          "output_type": "stream",
          "name": "stdout",
          "text": [
            "p-value :  0.05\n"
          ]
        }
      ],
      "source": [
        "# your code here\n",
        "# 3)\n",
        "p_value = 0.05; # 5%, p-value is the probability of our observation in the population , as we assume null-hypothesis\n",
        "print ('p-value : ', p_value)"
      ]
    },
    {
      "cell_type": "code",
      "source": [
        "# probability/mean of population is 5% = 0.05 = p\n",
        "# mean of sample = 46/384 \n",
        "# standard devation = sqrt(p*(1-p))\n",
        "# z = (mean sample - mean population) / (std deviation/ sqrt (sample size))\n",
        "\n",
        "p = 0.05 \n",
        "std_deviation = math.sqrt(p*(1-p))\n",
        "u2 = p # mean of population \n",
        "u1 = 46/384 # mean of sample \n",
        "\n",
        "z = (u1-u2)/(std_deviation/math.sqrt(384))\n",
        "\n",
        "z"
      ],
      "metadata": {
        "colab": {
          "base_uri": "https://localhost:8080/"
        },
        "id": "KgjogW7lC0Jt",
        "outputId": "bb212892-504a-405d-ddd2-d25d4c68cd77"
      },
      "execution_count": 4,
      "outputs": [
        {
          "output_type": "execute_result",
          "data": {
            "text/plain": [
              "6.27512493759735"
            ]
          },
          "metadata": {},
          "execution_count": 4
        }
      ]
    },
    {
      "cell_type": "markdown",
      "source": [
        "As Z value is greater than 1.96 ( as we have chosen alpha to be 0.05), we can say that null hypothesis is rejected and there is an increase in the autism."
      ],
      "metadata": {
        "id": "2_5ermeDHYgu"
      }
    },
    {
      "cell_type": "markdown",
      "metadata": {
        "id": "Aut31uibXVNQ"
      },
      "source": [
        "### Question 2 (15 points) \n",
        "\n",
        "National data in the 1960s showed that about 44% of the adult population had never smoked. \n",
        "\n",
        "(1) State a null and alternative hypothesis to test that the fraction of the 1995 population of adults that had never smoked had increased (5 points).  \n",
        "\n",
        "(2) A national random sample of 891 adults were interviewed and 463 stated that they had never smoked. Perform a z-test of the hypothesis and give an approriate p-value (5 points). \n",
        "\n",
        "(3) Create a 98% confidence interval for the proportion of adults who had never been smokers (5 points). "
      ]
    },
    {
      "cell_type": "code",
      "execution_count": 5,
      "metadata": {
        "id": "LUM_o_YeXVNR",
        "colab": {
          "base_uri": "https://localhost:8080/",
          "height": 52
        },
        "outputId": "1ffe4b17-9c02-4b86-bc94-5b4ea417373a"
      },
      "outputs": [
        {
          "output_type": "execute_result",
          "data": {
            "text/plain": [
              "' \\n1)when we take critical value as 0.05, if we compute z value and if it is greater than 1.96, we can say that it is alternative hypothesis and\\nthat the never smoked has increased. If the value of z is less than 1.96, then the population of never smoked is either same or reduced.\\n\\n'"
            ],
            "application/vnd.google.colaboratory.intrinsic+json": {
              "type": "string"
            }
          },
          "metadata": {},
          "execution_count": 5
        }
      ],
      "source": [
        "# You answer here\n",
        "\n",
        "''' \n",
        "1)when we take critical value as 0.05, if we compute z value and if it is greater than 1.96, we can say that it is alternative hypothesis and\n",
        "that the never smoked has increased. If the value of z is less than 1.96, then the population of never smoked is either same or reduced.\n",
        "\n",
        "'''"
      ]
    },
    {
      "cell_type": "code",
      "execution_count": 6,
      "metadata": {
        "id": "qyA9gavEXVNS",
        "colab": {
          "base_uri": "https://localhost:8080/"
        },
        "outputId": "6f970d56-7f7b-4053-ebb0-0b9a4212d982"
      },
      "outputs": [
        {
          "output_type": "stream",
          "name": "stdout",
          "text": [
            "p-value :  0.44\n",
            "z value : 7.862842808682134\n"
          ]
        }
      ],
      "source": [
        "# your code here\n",
        "#2)\n",
        "\n",
        "u2 = 0.44 # it is the population mean, 44%\n",
        "u1 = 463/891 # it is the sample mean \n",
        "p = u2 # probability in population\n",
        "print ('p-value : ', p)\n",
        "standard_dev = math.sqrt(p*(1-p))\n",
        "\n",
        "z = (u1-u2)/(std_deviation/math.sqrt(463))\n",
        "\n",
        "print ('z value :', z)"
      ]
    },
    {
      "cell_type": "markdown",
      "source": [
        "As Z value is greater than 1.96 ( as we have chosen alpha to be 0.05), we can say that null hypothesis is rejected and there is an increase in the number of non smokers."
      ],
      "metadata": {
        "id": "WKvrkSRZdC9U"
      }
    },
    {
      "cell_type": "code",
      "source": [
        "import scipy.stats as st"
      ],
      "metadata": {
        "id": "ctAluvZvd_4F"
      },
      "execution_count": 7,
      "outputs": []
    },
    {
      "cell_type": "code",
      "source": [
        "#3 confidence interval\n",
        "st.t.interval(alpha=0.98, df=891, loc=u2, scale=(std_deviation/math.sqrt(463)))"
      ],
      "metadata": {
        "colab": {
          "base_uri": "https://localhost:8080/"
        },
        "id": "v1e3uF4DdWrk",
        "outputId": "b29e5db9-0dc5-474d-8e2a-fb3a0bac1a04"
      },
      "execution_count": 8,
      "outputs": [
        {
          "output_type": "execute_result",
          "data": {
            "text/plain": [
              "(0.4163945144998461, 0.4636054855001539)"
            ]
          },
          "metadata": {},
          "execution_count": 8
        }
      ]
    },
    {
      "cell_type": "markdown",
      "metadata": {
        "id": "FpOUwqJYXVNS"
      },
      "source": [
        "### Question 3 (15 points) \n",
        "In this problem,we will examine the sugar content of several national brands of cereals, here measured as a percentage of weight.\n",
        "\n",
        "\n",
        "(1) Give a summary of these two datasets (5 points). \n",
        "\n",
        "(2) Create side-by-side boxplots and interpret what you see (5 points). \n",
        "\n",
        "(3) Use python to create a 95% confidence interval for the difference in mean sugar content and explain your result (5 points). "
      ]
    },
    {
      "cell_type": "code",
      "execution_count": 9,
      "metadata": {
        "id": "QiGkmaliXVNT",
        "colab": {
          "base_uri": "https://localhost:8080/"
        },
        "outputId": "e9157d45-8c8f-4e29-ad92-01cbfb0e4627"
      },
      "outputs": [
        {
          "output_type": "stream",
          "name": "stdout",
          "text": [
            "Children  \n",
            "Mean :  46.800000000000004\n",
            "Standard Deviation :  6.24718884147523\n",
            "Minimum :  33.6\n",
            "Maximum :  60.3\n",
            "Adults \n",
            "Mean :  10.153571428571427\n",
            "Standard Deviation :  7.475220118252474\n",
            "Minimum :  1.0\n",
            "Maximum :  30.2\n"
          ]
        }
      ],
      "source": [
        "#1\n",
        "import numpy as np\n",
        "\n",
        "children = [40.3, 55.0, 45.7, 43.3, 50.3, 45.9, 53.5, 43.0, 44.2, 44.0, 33.6, 55.1, 48.8,\n",
        "            50.4, 37.8, 60.3, 46.6, 47.4, 44.0]\n",
        "\n",
        "adults = [20.0, 30.2, 2.2, 7.5, 4.4, 22.2, 16.6, 14.5, 21.4, 3.3, 10.0, 1.0, 4.4, 1.3, 8.1, 6.6, 7.8, 10.6, 16.2, 14.5,\n",
        "        4.1, 15.8, 4.1, 2.4, 3.5, 8.5, 4.7, 18.4]\n",
        "\n",
        "\n",
        "# children \n",
        "print ('Children  ')\n",
        "print ('Mean : ',np.mean(children))\n",
        "print ('Standard Deviation : ', np.std(children))\n",
        "print ('Minimum : ', np.min(children))\n",
        "print ('Maximum : ', np.max(children))\n",
        "\n",
        "#Adult\n",
        "print ('Adults ')\n",
        "print ('Mean : ',np.mean(adults))\n",
        "print ('Standard Deviation : ', np.std(adults))\n",
        "print ('Minimum : ', np.min(adults))\n",
        "print ('Maximum : ', np.max(adults))\n",
        "\n",
        "\n"
      ]
    },
    {
      "cell_type": "code",
      "source": [
        "#2\n",
        "import matplotlib.pyplot as plt\n",
        "\n",
        "plt.subplot(1, 2, 1) # quadrant 1\n",
        "plt.boxplot(children)\n",
        "\n",
        "plt.subplot(1, 2, 2) # quadrant 2\n",
        "plt.boxplot(adults)\n",
        " \n",
        "plt.show()"
      ],
      "metadata": {
        "colab": {
          "base_uri": "https://localhost:8080/",
          "height": 265
        },
        "id": "CUFSHF4_qYtd",
        "outputId": "8106b0ae-bd84-43f0-e24f-ffd9e9c46c30"
      },
      "execution_count": 10,
      "outputs": [
        {
          "output_type": "display_data",
          "data": {
            "text/plain": [
              "<Figure size 432x288 with 2 Axes>"
            ],
            "image/png": "[encoded data removed]"
          },
          "metadata": {
            "needs_background": "light"
          }
        }
      ]
    },
    {
      "cell_type": "markdown",
      "source": [
        "- we can see that minimum of children is greater than maximum of adults.\n",
        "- In children median is almost near to mean(calculated above)\n",
        "- we can see an outlier in the children, where as there are no outliers in adults."
      ],
      "metadata": {
        "id": "cEEol0XKr7Jh"
      }
    },
    {
      "cell_type": "code",
      "execution_count": 11,
      "metadata": {
        "id": "b5tiPtq5XVNU",
        "colab": {
          "base_uri": "https://localhost:8080/"
        },
        "outputId": "7dc840b2-c0b3-4fbe-b5dd-402d2a7f2b61"
      },
      "outputs": [
        {
          "output_type": "stream",
          "name": "stdout",
          "text": [
            "Confidence interval of difference in mean is : ( 32.70212757754736 , 40.5907295653098 )\n"
          ]
        }
      ],
      "source": [
        "# 95% confidence interval \n",
        "\n",
        "diffmean = np.mean(children) - np.mean(adults)\n",
        "z = 1.96 # as it is 95% confidence interval\n",
        "\n",
        "error = z*(math.sqrt(((np.std(children)*np.std(children)/len(children)))+((np.std(adults)*np.std(adults)/len(adults)))))\n",
        "\n",
        "print('Confidence interval of difference in mean is : (' , diffmean - error, ',',diffmean + error,')')\n",
        "\n"
      ]
    },
    {
      "cell_type": "markdown",
      "source": [
        "As the confidence interval is not null, we can say that there is a  statistically significant difference between the groups."
      ],
      "metadata": {
        "id": "tV4RhiKd0O7b"
      }
    },
    {
      "cell_type": "code",
      "source": [
        "t = diffmean/(error/z)\n",
        "t"
      ],
      "metadata": {
        "colab": {
          "base_uri": "https://localhost:8080/"
        },
        "id": "Te-RHa8Z1lhQ",
        "outputId": "5a2b19a2-12ab-450f-cb55-3cd3f7701818"
      },
      "execution_count": 12,
      "outputs": [
        {
          "output_type": "execute_result",
          "data": {
            "text/plain": [
              "18.210324240321647"
            ]
          },
          "metadata": {},
          "execution_count": 12
        }
      ]
    },
    {
      "cell_type": "markdown",
      "metadata": {
        "id": "OKntu7ChXVNU"
      },
      "source": [
        "### Question 4 (15 points, with 10 extra point included) A/B Testing"
      ]
    },
    {
      "cell_type": "markdown",
      "metadata": {
        "id": "4rXPDHvKXVNU"
      },
      "source": [
        "Punishment for crime has many [philosophical justifications](http://plato.stanford.edu/entries/punishment/#ThePun).  An important one is that fear of punishment may *deter* people from committing crimes.\n",
        "\n",
        "In the United States, some jurisdictions execute people who are convicted of particularly serious crimes, such as murder.  This punishment is called the *death penalty* or *capital punishment*.  The death penalty is controversial, and deterrence has been one focal point of the debate.  There are other reasons to support or oppose the death penalty, but in this project we'll focus on deterrence.\n",
        "\n",
        "The key question about deterrence is:\n",
        "\n",
        "> Through our exploration, does instituting a death penalty for murder actually reduce the number of murders?\n",
        "\n",
        "You might have a strong intuition in one direction, but the evidence turns out to be surprisingly complex.  Different sides have variously argued that the death penalty has no deterrent effect and that each execution prevents 8 murders, all using statistical arguments!  We'll try to come to our own conclusion.\n",
        "\n",
        "#### The data\n",
        "\n",
        "The main data source for this lab comes from a [paper](http://cjlf.org/deathpenalty/DezRubShepDeterFinal.pdf) by three researchers, Dezhbakhsh, Rubin, and Shepherd.  The dataset contains rates of various violent crimes for every year 1960-2003 (44 years) in every US state.  The researchers compiled the data from the FBI's Uniform Crime Reports.\n",
        "\n",
        "Since crimes are committed by people, not states, we need to account for the number of people in each state when we're looking at state-level data.  Murder rates are calculated as follows:\n",
        "\n",
        "$$\\text{murder rate for state X in year Y} = \\frac{\\text{number of murders in state X in year Y}}{\\text{population in state X in year Y}}*100000$$\n",
        "\n",
        "(Murder is rare, so we multiply by 100,000 just to avoid dealing with tiny numbers.)\n",
        "\n",
        "Murder rates vary over time, and different states exhibit different trends. The rates in some states change dramatically from year to year, while others are quite stable. Let's plot a couple, just to see the variety.\n",
        "\n",
        "*Hint*: To create two lines, you will need create the table `ak_mn` with two columns of murder rates, in addition to a column of years. This table will have the following structure:\n",
        "\n",
        "| Year | Murder rate in Alaska | Murder rate in Minnesota |\n",
        "|------|-----------------------|--------------------------|\n",
        "| 1960 | 10.2                  | 1.2                      |\n",
        "| 1961 | 11.5                  | 1                        |\n",
        "| 1962 | 4.5                   | 0.9                      |\n",
        "\n",
        "<center>... (41 rows omitted)</center>\n",
        "\n",
        "Some US states have the death penalty, and others don't, and laws have changed over time. In addition to changes in murder rates, we will also consider whether the death penalty was in force in each state and each year.\n",
        "\n",
        "Using this information, we would like to investigate how the presence of the death penalty affects the murder rate of a state."
      ]
    },
    {
      "cell_type": "markdown",
      "metadata": {
        "id": "gowdC56eXVNW"
      },
      "source": [
        "(1) Use preban_rates_copy and postban_rates to create a table change_in_death_rates that contains each state's population, murder rate, and whether or not that state had the death penalty for both 1971 and 1973. (5 points)\n",
        "\n",
        "Create a table rate_means that contains the average murder rates for the states that had the death penalty and the states that didn't have the death penalty. It should have two columns: one indicating if the penalty was in place, and one that contains the average murder rate for each group.\n",
        "\n",
        "Hint: tbl_1.append(tbl_2) with create a new table that includes rows from both tbl_1 and tbl_2. Both tables must have the exactly the same columns, in the same order.\n",
        "\n",
        "(2) We want to figure out if there is a difference between the distribution of death rates in 1971 and 1973. Specifically, we want to test if murder rates were higher in 1973 than they were in 1971. You are required to conduct A/B Testing below (10 points):\n",
        "\n",
        "(2-1) Set observed_difference to the observed test statistic using the rate_means table. \n",
        "\n",
        "\n",
        "(2-2) Given a table like change_in_death_rates, a value column label, and a group column group_label, write a function that calculates the appropriate test statistic.\n",
        "\n",
        "(2-3) Write a function simulate_and_test_statistic to compute one trial of our A/B test. Your function should run a simulation and return a test statistic.\n",
        "\n",
        "(2-4) Simulate 5000 trials of our A/B test and store the test statistics in an array called differences.\n",
        "\n",
        "(2-5) Find the p-value for your test and assign it to empirical_P.\n",
        "\n",
        "(2-6) Using a 5% P-value cutoff, draw a conclusion about the null and alternative hypotheses. Describe your findings using simple, non-technical language. What does your analysis tell you about murder rates after the death penalty was suspended? What can you claim about causation from your statistical analysis?\n"
      ]
    },
    {
      "cell_type": "code",
      "execution_count": 13,
      "metadata": {
        "id": "Oxm3k22oXVNX",
        "colab": {
          "base_uri": "https://localhost:8080/",
          "height": 482
        },
        "outputId": "ae135f2a-118c-487e-fd12-2a5b1408d46d"
      },
      "outputs": [
        {
          "output_type": "stream",
          "name": "stderr",
          "text": [
            "/usr/local/lib/python3.7/dist-packages/datascience/tables.py:17: MatplotlibDeprecationWarning: The 'warn' parameter of use() is deprecated since Matplotlib 3.1 and will be removed in 3.3.  If any parameter follows 'warn', they should be pass as keyword, not positionally.\n",
            "  matplotlib.use('agg', warn=False)\n",
            "/usr/local/lib/python3.7/dist-packages/datascience/util.py:10: MatplotlibDeprecationWarning: The 'warn' parameter of use() is deprecated since Matplotlib 3.1 and will be removed in 3.3.  If any parameter follows 'warn', they should be pass as keyword, not positionally.\n",
            "  matplotlib.use('agg', warn=False)\n"
          ]
        },
        {
          "output_type": "execute_result",
          "data": {
            "text/plain": [
              "State  | Year | Population | Murder Rate\n",
              "Alaska | 1960 | 226,167    | 10.2\n",
              "Alaska | 1961 | 234,000    | 11.5\n",
              "Alaska | 1962 | 246,000    | 4.5\n",
              "Alaska | 1963 | 248,000    | 6.5\n",
              "Alaska | 1964 | 250,000    | 10.4\n",
              "Alaska | 1965 | 253,000    | 6.3\n",
              "Alaska | 1966 | 272,000    | 12.9\n",
              "Alaska | 1967 | 272,000    | 9.6\n",
              "Alaska | 1968 | 277,000    | 10.5\n",
              "Alaska | 1969 | 282,000    | 10.6\n",
              "... (2190 rows omitted)"
            ],
            "text/html": [
              "<table border=\"1\" class=\"dataframe\">\n",
              "    <thead>\n",
              "        <tr>\n",
              "            <th>State</th> <th>Year</th> <th>Population</th> <th>Murder Rate</th>\n",
              "        </tr>\n",
              "    </thead>\n",
              "    <tbody>\n",
              "        <tr>\n",
              "            <td>Alaska</td> <td>1960</td> <td>226,167   </td> <td>10.2       </td>\n",
              "        </tr>\n",
              "        <tr>\n",
              "            <td>Alaska</td> <td>1961</td> <td>234,000   </td> <td>11.5       </td>\n",
              "        </tr>\n",
              "        <tr>\n",
              "            <td>Alaska</td> <td>1962</td> <td>246,000   </td> <td>4.5        </td>\n",
              "        </tr>\n",
              "        <tr>\n",
              "            <td>Alaska</td> <td>1963</td> <td>248,000   </td> <td>6.5        </td>\n",
              "        </tr>\n",
              "        <tr>\n",
              "            <td>Alaska</td> <td>1964</td> <td>250,000   </td> <td>10.4       </td>\n",
              "        </tr>\n",
              "        <tr>\n",
              "            <td>Alaska</td> <td>1965</td> <td>253,000   </td> <td>6.3        </td>\n",
              "        </tr>\n",
              "        <tr>\n",
              "            <td>Alaska</td> <td>1966</td> <td>272,000   </td> <td>12.9       </td>\n",
              "        </tr>\n",
              "        <tr>\n",
              "            <td>Alaska</td> <td>1967</td> <td>272,000   </td> <td>9.6        </td>\n",
              "        </tr>\n",
              "        <tr>\n",
              "            <td>Alaska</td> <td>1968</td> <td>277,000   </td> <td>10.5       </td>\n",
              "        </tr>\n",
              "        <tr>\n",
              "            <td>Alaska</td> <td>1969</td> <td>282,000   </td> <td>10.6       </td>\n",
              "        </tr>\n",
              "    </tbody>\n",
              "</table>\n",
              "<p>... (2190 rows omitted)</p>"
            ]
          },
          "metadata": {},
          "execution_count": 13
        }
      ],
      "source": [
        "import numpy as np\n",
        "from datascience import *\n",
        "import matplotlib\n",
        "# %matplotlib inline\n",
        "import matplotlib.pyplot as plt\n",
        "murder_rates = Table.read_table('crime_rates.csv').select('State', 'Year', 'Population', 'Murder Rate')\n",
        "murder_rates.set_format(\"Population\", NumberFormatter)\n",
        "\n"
      ]
    },
    {
      "cell_type": "code",
      "source": [
        "ak = murder_rates.where('State', 'Alaska').drop('State', 'Population').relabeled(1, 'Murder rate in Alaska')\n",
        "mn = murder_rates.where('State', 'Minnesota').drop('State', 'Population').relabeled(1, 'Murder rate in Minnesota')\n",
        "ak_mn = ak.join(\"Year\", mn)\n",
        "ak_mn"
      ],
      "metadata": {
        "colab": {
          "base_uri": "https://localhost:8080/",
          "height": 392
        },
        "id": "P9ebO7Yc2gv4",
        "outputId": "c050cc27-162c-4ed8-b316-9909aa2d180b"
      },
      "execution_count": 14,
      "outputs": [
        {
          "output_type": "execute_result",
          "data": {
            "text/plain": [
              "Year | Murder rate in Alaska | Murder rate in Minnesota\n",
              "1960 | 10.2                  | 1.2\n",
              "1961 | 11.5                  | 1\n",
              "1962 | 4.5                   | 0.9\n",
              "1963 | 6.5                   | 1.2\n",
              "1964 | 10.4                  | 1.4\n",
              "1965 | 6.3                   | 1.4\n",
              "1966 | 12.9                  | 2.2\n",
              "1967 | 9.6                   | 1.6\n",
              "1968 | 10.5                  | 2.2\n",
              "1969 | 10.6                  | 1.9\n",
              "... (34 rows omitted)"
            ],
            "text/html": [
              "<table border=\"1\" class=\"dataframe\">\n",
              "    <thead>\n",
              "        <tr>\n",
              "            <th>Year</th> <th>Murder rate in Alaska</th> <th>Murder rate in Minnesota</th>\n",
              "        </tr>\n",
              "    </thead>\n",
              "    <tbody>\n",
              "        <tr>\n",
              "            <td>1960</td> <td>10.2                 </td> <td>1.2                     </td>\n",
              "        </tr>\n",
              "        <tr>\n",
              "            <td>1961</td> <td>11.5                 </td> <td>1                       </td>\n",
              "        </tr>\n",
              "        <tr>\n",
              "            <td>1962</td> <td>4.5                  </td> <td>0.9                     </td>\n",
              "        </tr>\n",
              "        <tr>\n",
              "            <td>1963</td> <td>6.5                  </td> <td>1.2                     </td>\n",
              "        </tr>\n",
              "        <tr>\n",
              "            <td>1964</td> <td>10.4                 </td> <td>1.4                     </td>\n",
              "        </tr>\n",
              "        <tr>\n",
              "            <td>1965</td> <td>6.3                  </td> <td>1.4                     </td>\n",
              "        </tr>\n",
              "        <tr>\n",
              "            <td>1966</td> <td>12.9                 </td> <td>2.2                     </td>\n",
              "        </tr>\n",
              "        <tr>\n",
              "            <td>1967</td> <td>9.6                  </td> <td>1.6                     </td>\n",
              "        </tr>\n",
              "        <tr>\n",
              "            <td>1968</td> <td>10.5                 </td> <td>2.2                     </td>\n",
              "        </tr>\n",
              "        <tr>\n",
              "            <td>1969</td> <td>10.6                 </td> <td>1.9                     </td>\n",
              "        </tr>\n",
              "    </tbody>\n",
              "</table>\n",
              "<p>... (34 rows omitted)</p>"
            ]
          },
          "metadata": {},
          "execution_count": 14
        }
      ]
    },
    {
      "cell_type": "code",
      "source": [
        "non_death_penalty_states = make_array('Alaska', 'Hawaii', 'Maine', 'Michigan', 'Wisconsin', 'Minnesota')\n",
        "\n",
        "def had_death_penalty_in_1971(state):\n",
        "#Returns True if the argument is the name of a state that had the death penalty in 1971.\n",
        "# The implementation of this function uses a bit of syntax\n",
        "# we haven't seen before. Just trust that it behaves as its\n",
        "# documentation claims.\n",
        "    return state not in non_death_penalty_states\n",
        "\n",
        "states = murder_rates.group('State').select('State')\n",
        "death_penalty = states.with_column('Death Penalty', states.apply(had_death_penalty_in_1971, 0))\n",
        "death_penalty"
      ],
      "metadata": {
        "colab": {
          "base_uri": "https://localhost:8080/",
          "height": 392
        },
        "id": "NGXRy57b2pVL",
        "outputId": "2063a9d8-f1e0-4a1a-b717-5aa3f88cfcfa"
      },
      "execution_count": 15,
      "outputs": [
        {
          "output_type": "execute_result",
          "data": {
            "text/plain": [
              "State       | Death Penalty\n",
              "Alabama     | True\n",
              "Alaska      | False\n",
              "Arizona     | True\n",
              "Arkansas    | True\n",
              "California  | True\n",
              "Colorado    | True\n",
              "Connecticut | True\n",
              "Delaware    | True\n",
              "Florida     | True\n",
              "Georgia     | True\n",
              "... (40 rows omitted)"
            ],
            "text/html": [
              "<table border=\"1\" class=\"dataframe\">\n",
              "    <thead>\n",
              "        <tr>\n",
              "            <th>State</th> <th>Death Penalty</th>\n",
              "        </tr>\n",
              "    </thead>\n",
              "    <tbody>\n",
              "        <tr>\n",
              "            <td>Alabama    </td> <td>True         </td>\n",
              "        </tr>\n",
              "        <tr>\n",
              "            <td>Alaska     </td> <td>False        </td>\n",
              "        </tr>\n",
              "        <tr>\n",
              "            <td>Arizona    </td> <td>True         </td>\n",
              "        </tr>\n",
              "        <tr>\n",
              "            <td>Arkansas   </td> <td>True         </td>\n",
              "        </tr>\n",
              "        <tr>\n",
              "            <td>California </td> <td>True         </td>\n",
              "        </tr>\n",
              "        <tr>\n",
              "            <td>Colorado   </td> <td>True         </td>\n",
              "        </tr>\n",
              "        <tr>\n",
              "            <td>Connecticut</td> <td>True         </td>\n",
              "        </tr>\n",
              "        <tr>\n",
              "            <td>Delaware   </td> <td>True         </td>\n",
              "        </tr>\n",
              "        <tr>\n",
              "            <td>Florida    </td> <td>True         </td>\n",
              "        </tr>\n",
              "        <tr>\n",
              "            <td>Georgia    </td> <td>True         </td>\n",
              "        </tr>\n",
              "    </tbody>\n",
              "</table>\n",
              "<p>... (40 rows omitted)</p>"
            ]
          },
          "metadata": {},
          "execution_count": 15
        }
      ]
    },
    {
      "cell_type": "code",
      "source": [
        "preban_rates = murder_rates.where(\"Year\", 1971).join(\"State\", death_penalty.where(\"Death Penalty\", True))\n",
        "preban_rates"
      ],
      "metadata": {
        "colab": {
          "base_uri": "https://localhost:8080/",
          "height": 392
        },
        "id": "XQqqIWUz2qb6",
        "outputId": "4367d2a5-83e3-45d9-ba36-a9f8ea098cec"
      },
      "execution_count": 16,
      "outputs": [
        {
          "output_type": "execute_result",
          "data": {
            "text/plain": [
              "State       | Year | Population | Murder Rate | Death Penalty\n",
              "Alabama     | 1971 | 3,479,000  | 15.1        | True\n",
              "Arizona     | 1971 | 1,849,000  | 6.7         | True\n",
              "Arkansas    | 1971 | 1,944,000  | 10.5        | True\n",
              "California  | 1971 | 20,223,000 | 8.1         | True\n",
              "Colorado    | 1971 | 2,283,000  | 6.5         | True\n",
              "Connecticut | 1971 | 3,081,000  | 3.1         | True\n",
              "Delaware    | 1971 | 558,000    | 6.1         | True\n",
              "Florida     | 1971 | 7,041,000  | 13.3        | True\n",
              "Georgia     | 1971 | 4,664,000  | 16          | True\n",
              "Idaho       | 1971 | 732,000    | 3.3         | True\n",
              "... (34 rows omitted)"
            ],
            "text/html": [
              "<table border=\"1\" class=\"dataframe\">\n",
              "    <thead>\n",
              "        <tr>\n",
              "            <th>State</th> <th>Year</th> <th>Population</th> <th>Murder Rate</th> <th>Death Penalty</th>\n",
              "        </tr>\n",
              "    </thead>\n",
              "    <tbody>\n",
              "        <tr>\n",
              "            <td>Alabama    </td> <td>1971</td> <td>3,479,000 </td> <td>15.1       </td> <td>True         </td>\n",
              "        </tr>\n",
              "        <tr>\n",
              "            <td>Arizona    </td> <td>1971</td> <td>1,849,000 </td> <td>6.7        </td> <td>True         </td>\n",
              "        </tr>\n",
              "        <tr>\n",
              "            <td>Arkansas   </td> <td>1971</td> <td>1,944,000 </td> <td>10.5       </td> <td>True         </td>\n",
              "        </tr>\n",
              "        <tr>\n",
              "            <td>California </td> <td>1971</td> <td>20,223,000</td> <td>8.1        </td> <td>True         </td>\n",
              "        </tr>\n",
              "        <tr>\n",
              "            <td>Colorado   </td> <td>1971</td> <td>2,283,000 </td> <td>6.5        </td> <td>True         </td>\n",
              "        </tr>\n",
              "        <tr>\n",
              "            <td>Connecticut</td> <td>1971</td> <td>3,081,000 </td> <td>3.1        </td> <td>True         </td>\n",
              "        </tr>\n",
              "        <tr>\n",
              "            <td>Delaware   </td> <td>1971</td> <td>558,000   </td> <td>6.1        </td> <td>True         </td>\n",
              "        </tr>\n",
              "        <tr>\n",
              "            <td>Florida    </td> <td>1971</td> <td>7,041,000 </td> <td>13.3       </td> <td>True         </td>\n",
              "        </tr>\n",
              "        <tr>\n",
              "            <td>Georgia    </td> <td>1971</td> <td>4,664,000 </td> <td>16         </td> <td>True         </td>\n",
              "        </tr>\n",
              "        <tr>\n",
              "            <td>Idaho      </td> <td>1971</td> <td>732,000   </td> <td>3.3        </td> <td>True         </td>\n",
              "        </tr>\n",
              "    </tbody>\n",
              "</table>\n",
              "<p>... (34 rows omitted)</p>"
            ]
          },
          "metadata": {},
          "execution_count": 16
        }
      ]
    },
    {
      "cell_type": "code",
      "source": [
        "postban_rates = murder_rates.where(\"Year\", 1973).join(\"State\", preban_rates).select(\"State\", \"Year\", \"Population\", \"Murder Rate\")\n",
        "postban_rates = postban_rates.with_column(\"Death Penalty\", False)\n",
        "postban_rates = postban_rates.sort(\"State\")\n",
        "postban_rates"
      ],
      "metadata": {
        "colab": {
          "base_uri": "https://localhost:8080/",
          "height": 392
        },
        "id": "_tyuDaM92sgN",
        "outputId": "4a142dcb-9b0c-48f8-c1ac-4b9877d628da"
      },
      "execution_count": 17,
      "outputs": [
        {
          "output_type": "execute_result",
          "data": {
            "text/plain": [
              "State       | Year | Population | Murder Rate | Death Penalty\n",
              "Alabama     | 1973 | 3,539,000  | 13.2        | False\n",
              "Arizona     | 1973 | 2,058,000  | 8.1         | False\n",
              "Arkansas    | 1973 | 2,037,000  | 8.8         | False\n",
              "California  | 1973 | 20,601,000 | 9           | False\n",
              "Colorado    | 1973 | 2,437,000  | 7.9         | False\n",
              "Connecticut | 1973 | 3,076,000  | 3.3         | False\n",
              "Delaware    | 1973 | 576,000    | 5.9         | False\n",
              "Florida     | 1973 | 7,678,000  | 15.4        | False\n",
              "Georgia     | 1973 | 4,786,000  | 17.4        | False\n",
              "Idaho       | 1973 | 770,000    | 2.6         | False\n",
              "... (34 rows omitted)"
            ],
            "text/html": [
              "<table border=\"1\" class=\"dataframe\">\n",
              "    <thead>\n",
              "        <tr>\n",
              "            <th>State</th> <th>Year</th> <th>Population</th> <th>Murder Rate</th> <th>Death Penalty</th>\n",
              "        </tr>\n",
              "    </thead>\n",
              "    <tbody>\n",
              "        <tr>\n",
              "            <td>Alabama    </td> <td>1973</td> <td>3,539,000 </td> <td>13.2       </td> <td>False        </td>\n",
              "        </tr>\n",
              "        <tr>\n",
              "            <td>Arizona    </td> <td>1973</td> <td>2,058,000 </td> <td>8.1        </td> <td>False        </td>\n",
              "        </tr>\n",
              "        <tr>\n",
              "            <td>Arkansas   </td> <td>1973</td> <td>2,037,000 </td> <td>8.8        </td> <td>False        </td>\n",
              "        </tr>\n",
              "        <tr>\n",
              "            <td>California </td> <td>1973</td> <td>20,601,000</td> <td>9          </td> <td>False        </td>\n",
              "        </tr>\n",
              "        <tr>\n",
              "            <td>Colorado   </td> <td>1973</td> <td>2,437,000 </td> <td>7.9        </td> <td>False        </td>\n",
              "        </tr>\n",
              "        <tr>\n",
              "            <td>Connecticut</td> <td>1973</td> <td>3,076,000 </td> <td>3.3        </td> <td>False        </td>\n",
              "        </tr>\n",
              "        <tr>\n",
              "            <td>Delaware   </td> <td>1973</td> <td>576,000   </td> <td>5.9        </td> <td>False        </td>\n",
              "        </tr>\n",
              "        <tr>\n",
              "            <td>Florida    </td> <td>1973</td> <td>7,678,000 </td> <td>15.4       </td> <td>False        </td>\n",
              "        </tr>\n",
              "        <tr>\n",
              "            <td>Georgia    </td> <td>1973</td> <td>4,786,000 </td> <td>17.4       </td> <td>False        </td>\n",
              "        </tr>\n",
              "        <tr>\n",
              "            <td>Idaho      </td> <td>1973</td> <td>770,000   </td> <td>2.6        </td> <td>False        </td>\n",
              "        </tr>\n",
              "    </tbody>\n",
              "</table>\n",
              "<p>... (34 rows omitted)</p>"
            ]
          },
          "metadata": {},
          "execution_count": 17
        }
      ]
    },
    {
      "cell_type": "code",
      "source": [
        "preban_rates_copy = preban_rates.copy()\n",
        "change_in_death_rates = preban_rates_copy.append(postban_rates)\n",
        "change_in_death_rates"
      ],
      "metadata": {
        "colab": {
          "base_uri": "https://localhost:8080/",
          "height": 392
        },
        "id": "2fKnqS022vzR",
        "outputId": "d2afec26-1da5-4fc2-da93-69eb22960896"
      },
      "execution_count": 18,
      "outputs": [
        {
          "output_type": "execute_result",
          "data": {
            "text/plain": [
              "State       | Year | Population | Murder Rate | Death Penalty\n",
              "Alabama     | 1971 | 3,479,000  | 15.1        | True\n",
              "Arizona     | 1971 | 1,849,000  | 6.7         | True\n",
              "Arkansas    | 1971 | 1,944,000  | 10.5        | True\n",
              "California  | 1971 | 20,223,000 | 8.1         | True\n",
              "Colorado    | 1971 | 2,283,000  | 6.5         | True\n",
              "Connecticut | 1971 | 3,081,000  | 3.1         | True\n",
              "Delaware    | 1971 | 558,000    | 6.1         | True\n",
              "Florida     | 1971 | 7,041,000  | 13.3        | True\n",
              "Georgia     | 1971 | 4,664,000  | 16          | True\n",
              "Idaho       | 1971 | 732,000    | 3.3         | True\n",
              "... (78 rows omitted)"
            ],
            "text/html": [
              "<table border=\"1\" class=\"dataframe\">\n",
              "    <thead>\n",
              "        <tr>\n",
              "            <th>State</th> <th>Year</th> <th>Population</th> <th>Murder Rate</th> <th>Death Penalty</th>\n",
              "        </tr>\n",
              "    </thead>\n",
              "    <tbody>\n",
              "        <tr>\n",
              "            <td>Alabama    </td> <td>1971</td> <td>3,479,000 </td> <td>15.1       </td> <td>True         </td>\n",
              "        </tr>\n",
              "        <tr>\n",
              "            <td>Arizona    </td> <td>1971</td> <td>1,849,000 </td> <td>6.7        </td> <td>True         </td>\n",
              "        </tr>\n",
              "        <tr>\n",
              "            <td>Arkansas   </td> <td>1971</td> <td>1,944,000 </td> <td>10.5       </td> <td>True         </td>\n",
              "        </tr>\n",
              "        <tr>\n",
              "            <td>California </td> <td>1971</td> <td>20,223,000</td> <td>8.1        </td> <td>True         </td>\n",
              "        </tr>\n",
              "        <tr>\n",
              "            <td>Colorado   </td> <td>1971</td> <td>2,283,000 </td> <td>6.5        </td> <td>True         </td>\n",
              "        </tr>\n",
              "        <tr>\n",
              "            <td>Connecticut</td> <td>1971</td> <td>3,081,000 </td> <td>3.1        </td> <td>True         </td>\n",
              "        </tr>\n",
              "        <tr>\n",
              "            <td>Delaware   </td> <td>1971</td> <td>558,000   </td> <td>6.1        </td> <td>True         </td>\n",
              "        </tr>\n",
              "        <tr>\n",
              "            <td>Florida    </td> <td>1971</td> <td>7,041,000 </td> <td>13.3       </td> <td>True         </td>\n",
              "        </tr>\n",
              "        <tr>\n",
              "            <td>Georgia    </td> <td>1971</td> <td>4,664,000 </td> <td>16         </td> <td>True         </td>\n",
              "        </tr>\n",
              "        <tr>\n",
              "            <td>Idaho      </td> <td>1971</td> <td>732,000   </td> <td>3.3        </td> <td>True         </td>\n",
              "        </tr>\n",
              "    </tbody>\n",
              "</table>\n",
              "<p>... (78 rows omitted)</p>"
            ]
          },
          "metadata": {},
          "execution_count": 18
        }
      ]
    },
    {
      "cell_type": "code",
      "source": [
        "change_in_death_rates.hist('Murder Rate', group = 'Death Penalty')"
      ],
      "metadata": {
        "colab": {
          "base_uri": "https://localhost:8080/",
          "height": 265
        },
        "id": "37KmNT5e2x33",
        "outputId": "7e6112d2-60ea-47ce-b67f-bafd4975060b"
      },
      "execution_count": 19,
      "outputs": [
        {
          "output_type": "display_data",
          "data": {
            "text/plain": [
              "<Figure size 432x288 with 1 Axes>"
            ],
            "image/png": "[encoded data removed]"
          },
          "metadata": {
            "needs_background": "light"
          }
        }
      ]
    },
    {
      "cell_type": "code",
      "source": [
        "new_table = change_in_death_rates.group(\"Death Penalty\", np.average)\n",
        "rate_means = new_table.select(\"Death Penalty\", \"Murder Rate average\")\n",
        "rate_means"
      ],
      "metadata": {
        "colab": {
          "base_uri": "https://localhost:8080/",
          "height": 112
        },
        "id": "NyDQfl8l2z6l",
        "outputId": "0289d234-9752-491a-f2c1-5771c08970b9"
      },
      "execution_count": 20,
      "outputs": [
        {
          "output_type": "execute_result",
          "data": {
            "text/plain": [
              "Death Penalty | Murder Rate average\n",
              "False         | 8.12045\n",
              "True          | 7.51364"
            ],
            "text/html": [
              "<table border=\"1\" class=\"dataframe\">\n",
              "    <thead>\n",
              "        <tr>\n",
              "            <th>Death Penalty</th> <th>Murder Rate average</th>\n",
              "        </tr>\n",
              "    </thead>\n",
              "    <tbody>\n",
              "        <tr>\n",
              "            <td>False        </td> <td>8.12045            </td>\n",
              "        </tr>\n",
              "        <tr>\n",
              "            <td>True         </td> <td>7.51364            </td>\n",
              "        </tr>\n",
              "    </tbody>\n",
              "</table>"
            ]
          },
          "metadata": {},
          "execution_count": 20
        }
      ]
    },
    {
      "cell_type": "code",
      "source": [
        "observed_difference = rate_means.column(\"Murder Rate average\").item(0) - rate_means.column(\"Murder Rate average\").item(1)\n",
        "observed_difference"
      ],
      "metadata": {
        "colab": {
          "base_uri": "https://localhost:8080/"
        },
        "id": "Ii19tVPD22Ok",
        "outputId": "5b57a441-6a7f-4157-dc4e-1a2b230e95e3"
      },
      "execution_count": 21,
      "outputs": [
        {
          "output_type": "execute_result",
          "data": {
            "text/plain": [
              "0.6068181600659095"
            ]
          },
          "metadata": {},
          "execution_count": 21
        }
      ]
    },
    {
      "cell_type": "code",
      "source": [
        "def find_test_stat(table, label, group_label):\n",
        "   new_table = table.group(group_label, np.average)\n",
        "   return new_table.column(label + \" average\").item(0) - new_table.column(label + \" average\").item(1)\n",
        "\n",
        "find_test_stat(change_in_death_rates, \"Murder Rate\", \"Death Penalty\")"
      ],
      "metadata": {
        "colab": {
          "base_uri": "https://localhost:8080/"
        },
        "id": "cpCh-_cb25Hs",
        "outputId": "e54d7bf8-9aca-4c93-ee87-d2c9145a3932"
      },
      "execution_count": 22,
      "outputs": [
        {
          "output_type": "execute_result",
          "data": {
            "text/plain": [
              "0.6068181600659095"
            ]
          },
          "metadata": {},
          "execution_count": 22
        }
      ]
    },
    {
      "cell_type": "code",
      "source": [
        "def simulate_and_test_statistic(table, label, group_label):\n",
        "  shuffled_column = table.sample(with_replacement = False).column(group_label)\n",
        "  new_table = table.drop(group_label).with_column(\"shuffled label\", shuffled_column)\n",
        "  return find_test_stat(new_table, label, \"shuffled label\")\n",
        "\n",
        "simulate_and_test_statistic(change_in_death_rates, \"Murder Rate\", \"Death Penalty\")"
      ],
      "metadata": {
        "colab": {
          "base_uri": "https://localhost:8080/"
        },
        "id": "cxpkt05E25-r",
        "outputId": "b1747769-1b10-4a3a-bb37-f6d0dabddb72"
      },
      "execution_count": 23,
      "outputs": [
        {
          "output_type": "execute_result",
          "data": {
            "text/plain": [
              "-1.3250000055704554"
            ]
          },
          "metadata": {},
          "execution_count": 23
        }
      ]
    },
    {
      "cell_type": "code",
      "source": [
        "import numpy as np\n",
        "differences = make_array()\n",
        "\n",
        "for i in np.arange(5000):\n",
        "    test = simulate_and_test_statistic(change_in_death_rates, \"Murder Rate\", \"Death Penalty\")\n",
        "    differences = np.append(differences, test)\n",
        "\n",
        "differences"
      ],
      "metadata": {
        "colab": {
          "base_uri": "https://localhost:8080/"
        },
        "id": "Qpb5AD5U28Fu",
        "outputId": "c98ac140-3329-4d45-e054-c73d03ebe61e"
      },
      "execution_count": 24,
      "outputs": [
        {
          "output_type": "execute_result",
          "data": {
            "text/plain": [
              "array([-1.33863637, -0.64318181, -2.5204545 , ..., -1.96136361,\n",
              "        0.44318187,  0.69772727])"
            ]
          },
          "metadata": {},
          "execution_count": 24
        }
      ]
    },
    {
      "cell_type": "code",
      "source": [
        "empirical_P = sum(differences >= observed_difference) / len(differences)\n",
        "empirical_P"
      ],
      "metadata": {
        "colab": {
          "base_uri": "https://localhost:8080/"
        },
        "id": "gIoS0L8s2_2Z",
        "outputId": "56a8a2af-13ff-420e-cbbc-40e4e9548451"
      },
      "execution_count": 25,
      "outputs": [
        {
          "output_type": "execute_result",
          "data": {
            "text/plain": [
              "0.2674"
            ]
          },
          "metadata": {},
          "execution_count": 25
        }
      ]
    },
    {
      "cell_type": "markdown",
      "source": [
        "We can see that data is consistant with null hypothesis"
      ],
      "metadata": {
        "id": "R9vDuylh3Ew8"
      }
    }
  ],
  "metadata": {
    "kernelspec": {
      "display_name": "Python 3",
      "language": "python",
      "name": "python3"
    },
    "language_info": {
      "codemirror_mode": {
        "name": "ipython",
        "version": 3
      },
      "file_extension": ".py",
      "mimetype": "text/x-python",
      "name": "python",
      "nbconvert_exporter": "python",
      "pygments_lexer": "ipython3",
      "version": "3.8.5"
    },
    "colab": {
      "name": "lab_assignment_09.ipynb",
      "provenance": [],
      "include_colab_link": true
    }
  },
  "nbformat": 4,
  "nbformat_minor": 0
}