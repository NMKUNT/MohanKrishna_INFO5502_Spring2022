{
  "cells": [
    {
      "cell_type": "markdown",
      "metadata": {
        "id": "view-in-github",
        "colab_type": "text"
      },
      "source": [
        "<a href=\"https://colab.research.google.com/github/NMKUNT/MohanKrishna_INFO5502_Spring2022/blob/main/lab_assignment_02_with_solutions.ipynb\" target=\"_parent\"><img src=\"https://colab.research.google.com/assets/colab-badge.svg\" alt=\"Open In Colab\"/></a>"
      ]
    },
    {
      "cell_type": "markdown",
      "metadata": {
        "id": "Ryk8D1Q4Wsrp"
      },
      "source": [
        "# **The second Lab-assignment (02/04/2022, 50 points in total)**"
      ]
    },
    {
      "cell_type": "markdown",
      "metadata": {
        "id": "90_NR8c5XGWc"
      },
      "source": [
        "# Question 1\n",
        "\n",
        "(5 points). Write a Python program to generate 12 random numbers between 1 and 100. Sort the list of numbers in ascending order and print it out. Sort the list of numbers in descending order and print it out. Calculate the average for the group and print it out."
      ]
    },
    {
      "cell_type": "code",
      "execution_count": 20,
      "metadata": {
        "colab": {
          "base_uri": "https://localhost:8080/"
        },
        "id": "5QX6bJjGWXY9",
        "outputId": "fe9d86f7-8bc3-4d74-9fd9-88a74f1ab150"
      },
      "outputs": [
        {
          "output_type": "stream",
          "name": "stdout",
          "text": [
            "[67, 9, 68, 29, 73, 76, 39, 41, 87, 83, 64, 77]\n",
            "[9, 29, 39, 41, 64, 67, 68, 73, 76, 77, 83, 87]\n",
            "[87, 83, 77, 76, 73, 68, 67, 64, 41, 39, 29, 9]\n",
            "59.417\n"
          ]
        }
      ],
      "source": [
        "# Your code here\n",
        "import random\n",
        "\n",
        "a=[] # a is the list in which we store random numbers \n",
        "\n",
        "\n",
        "for i in range(0,12):\n",
        "   a.append(random.randint(1,100))    # randint generates the random intergers in the range mentioned.\n",
        "   \n",
        "print(a) # prints our list of numbers\n",
        "\n",
        "a.sort()  # this will sort the list , ascending by default\n",
        "\n",
        "print(a)\n",
        "\n",
        "a.sort(reverse=True)    # this will sort in descending \n",
        "\n",
        "print(a)\n",
        "\n",
        "average = sum(a)/12  # sum gives the sum of numbers in the list\n",
        "\n",
        "print(round(average,3)) # prints the average, round function will round off our result. I used 3, which will round off to 3 digits after decimal"
      ]
    },
    {
      "cell_type": "markdown",
      "metadata": {
        "id": "1F_PZdH9Sh49"
      },
      "source": [
        "# Question 2\n",
        "(20 points). Write a program that will do the following string formatting tasks:\n",
        "\n",
        "(1) Ask the user to enter two sentences.\n",
        "\n",
        "(2) Make each sentence into a list. Each element in the list should correspond to a word in the sentence. For example, if the sentence is \"Alas! Am I alive? This is my first python program\", the program should print out ['Alas, '!', 'Am', 'I', 'alive, '?', 'This', 'is', 'my', 'first', 'python', 'program'].\n",
        "\n",
        "(3) Compare the two sentences. Print out a list of words that occur in both sentences.\n",
        "\n",
        "(4) Remove any punctuation from the sentence and print it back out. It should remove at least the following characters, but it can remove more: period(“.”), comma (“,”), semicolon (“;”), and colon (“:”)\n",
        "\n",
        "(5) Count the number of vowels in the sentences. Print out each vowel and the number of times it appears in the sentences, such as: a:2, e:1, i:0, etc"
      ]
    },
    {
      "cell_type": "code",
      "execution_count": 77,
      "metadata": {
        "colab": {
          "base_uri": "https://localhost:8080/"
        },
        "id": "Y0oOSlsOS0cq",
        "outputId": "52131e41-74ee-4e2e-b1d2-61dcf46a09ff"
      },
      "outputs": [
        {
          "output_type": "stream",
          "name": "stdout",
          "text": [
            "enter first sentence\n",
            "Alas! Am I alive? This is my first python program\n",
            "enter second sentence\n",
            "yes you are alive. Wow! nice\n",
            "\n",
            "\n",
            "\n"
          ]
        }
      ],
      "source": [
        "# Your code here\n",
        "import re\n",
        "#1---------------------------------------------------\n",
        "print(\"enter first sentence\")\n",
        "sent1=input()\n",
        "print(\"enter second sentence\")\n",
        "sent2=input()\n",
        "\n",
        "\n",
        "\n",
        "\n"
      ]
    },
    {
      "cell_type": "code",
      "source": [
        "#2-----------------------------------------------------\n",
        "split1=re.findall(r\"[A-Za-z@#]+|\\S\",sent1)\n",
        "print(split1,\"------- split of sentence 1\")\n",
        "split2=re.findall(r\"[A-Za-z@#]+|\\S\",sent2)\n",
        "print(split2,\"------- split of sentence 2\")\n"
      ],
      "metadata": {
        "colab": {
          "base_uri": "https://localhost:8080/"
        },
        "id": "MGaDZ9E4Q1TS",
        "outputId": "41b6356b-853d-4d31-ee85-ed83ff3ba2e2"
      },
      "execution_count": 121,
      "outputs": [
        {
          "output_type": "stream",
          "name": "stdout",
          "text": [
            "['Alas', '!', 'Am', 'I', 'alive', '?', 'This', 'is', 'my', 'first', 'python', 'program'] ------- split of sentence 1\n",
            "['yes', 'you', 'are', 'alive', '.', 'Wow', '!', 'nice'] ------- split of sentence 2\n"
          ]
        }
      ]
    },
    {
      "cell_type": "code",
      "source": [
        "#3-----------------------------------------------------\n",
        "common=[]\n",
        "\n",
        "for i in split1:\n",
        "        a = []\n",
        "        a.extend(i)\n",
        "        if(i in split2 and (ord(a[0])<33 or ord(a[0])>64)): # using ord, removing the special characters\n",
        "              common.append(i)\n",
        "print(common,\"  Common words\")\n"
      ],
      "metadata": {
        "colab": {
          "base_uri": "https://localhost:8080/"
        },
        "id": "oTpNlzLxRIyh",
        "outputId": "47b22eb3-6d3f-4dc4-c103-52d61aa7838a"
      },
      "execution_count": 122,
      "outputs": [
        {
          "output_type": "stream",
          "name": "stdout",
          "text": [
            "['alive']   Common words\n"
          ]
        }
      ]
    },
    {
      "cell_type": "code",
      "source": [
        "#4---------------------------------------------------------\n",
        "\n",
        "split1_copy = split1\n",
        "\n",
        "for i in split1_copy:\n",
        "        a = []\n",
        "        a.extend(i)\n",
        "        if(ord(a[0])>=33 and ord(a[0])<=64): # using ord, removing the special characters\n",
        "            split1_copy.remove(i)\n",
        "split1_copy = \" \".join(split1_copy)\n",
        "print(split1_copy,\" ---- Without punctuation\")\n",
        "\n",
        "split2_copy = split2\n",
        "\n",
        "for i in split2_copy:\n",
        "        a = []\n",
        "        a.extend(i)\n",
        "        if(ord(a[0])>=33 and ord(a[0])<=64): # using ord, removing the special characters\n",
        "            split2_copy.remove(i)\n",
        "split2_copy = \" \".join(split2_copy)\n",
        "print(split2_copy,\" ---- Without punctuation\")\n"
      ],
      "metadata": {
        "colab": {
          "base_uri": "https://localhost:8080/"
        },
        "id": "cb9pe8zORLIq",
        "outputId": "e2094bc1-09c0-410b-e17c-0f7b732d6aba"
      },
      "execution_count": 123,
      "outputs": [
        {
          "output_type": "stream",
          "name": "stdout",
          "text": [
            "Alas Am I alive This is my first python program  ---- Without punctuation\n",
            "yes you are alive Wow nice  ---- Without punctuation\n"
          ]
        }
      ]
    },
    {
      "cell_type": "code",
      "source": [
        "#5-----------------------------------------------------------\n",
        "a = split1_copy\n",
        "vowels = 'aeiou'\n",
        "a = a.casefold()\n",
        "count1 = {}.fromkeys(vowels,0)\n",
        "count = {}.fromkeys(vowels,0)\n",
        "\n",
        "for i in a:\n",
        "       if i in count1:\n",
        "           count1[i] += 1\n",
        "           count[i] += 1\n",
        "print(count1, \"---count of vowels in sentence1\")\n",
        "\n",
        "b = split2_copy\n",
        "b = b.casefold()\n",
        "count2 = {}.fromkeys(vowels,0)\n",
        "for i in b:\n",
        "       if i in count2:\n",
        "           count2[i] += 1\n",
        "           count[i] += 1\n",
        "print(count2, \"---count of vowels in sentence2\")\n",
        "\n",
        "print(count,\"----count of vowels in both sentences combined\")"
      ],
      "metadata": {
        "colab": {
          "base_uri": "https://localhost:8080/"
        },
        "id": "QKgqP9WSRNbQ",
        "outputId": "75b2be3e-e261-4447-a9cc-cc8280c94fdc"
      },
      "execution_count": 81,
      "outputs": [
        {
          "output_type": "stream",
          "name": "stdout",
          "text": [
            "{'a': 5, 'e': 1, 'i': 5, 'o': 2, 'u': 0} ---count of vowels in sentence1\n",
            "{'a': 2, 'e': 4, 'i': 2, 'o': 2, 'u': 1} ---count of vowels in sentence2\n",
            "{'a': 7, 'e': 5, 'i': 7, 'o': 4, 'u': 1} ----count of vowels in both sentences combined\n"
          ]
        }
      ]
    },
    {
      "cell_type": "markdown",
      "metadata": {
        "id": "CmFoI4jDS9nx"
      },
      "source": [
        "# Question 3 \n",
        "\n",
        "(5 points). The formula that describes the volume V of a sphere with radius r is the following:\n",
        "\n",
        "$ V=\\frac{4}{3}\\ast\\ \\pi\\ast\\ r^3 $\n",
        "\n",
        "Write a program to calculate the value of V when r is in the range of 1–10. Output the result in the following format:\n",
        "\n",
        "\tr\tV\n",
        "\t1\t…\n",
        "\t2\t…\n",
        "\t3\t…\n"
      ]
    },
    {
      "cell_type": "code",
      "execution_count": 75,
      "metadata": {
        "colab": {
          "base_uri": "https://localhost:8080/"
        },
        "id": "pEyqeioAT95b",
        "outputId": "8d61ba9c-657f-4c3b-fd90-db215132bd2e"
      },
      "outputs": [
        {
          "output_type": "stream",
          "name": "stdout",
          "text": [
            "r    V\n",
            "1    4.189\n",
            "2    33.51\n",
            "3    113.097\n",
            "4    268.083\n",
            "5    523.599\n",
            "6    904.779\n",
            "7    1436.755\n",
            "8    2144.661\n",
            "9    3053.628\n",
            "10    4188.79\n"
          ]
        }
      ],
      "source": [
        "# Your code here\n",
        "import math \n",
        "print (\"r    V\")\n",
        "vol = 0\n",
        "\n",
        "for i in range (1,11):\n",
        "    vol=(4/3)*(math.pi)*(i**3)   # math.pi gives the value of pi\n",
        "    print(i,\"  \",round(vol,3))   # rounded off the out put to 3 places after decimal"
      ]
    },
    {
      "cell_type": "markdown",
      "metadata": {
        "id": "z3tBE7E-Xn5X"
      },
      "source": [
        "# Question 4\n",
        "\n",
        "(20 points). In the field of Data Science, data is often formatted as a comma-delimited (CSV) file, where each line in a file corresponds to a field's value. Refer to Chapter 9 (p. 106) for more information on comma-delimited files. To answer this question, you will need to download the file [lab_assignment_02_denton_housing.csv](https://raw.githubusercontent.com/unt-iialab/info5502-spring2022/main/datasets/lab_assignment_02_denton_housing.csv) included with this assignment. The file [lab_assignment_02_denton_housing.csv](https://raw.githubusercontent.com/unt-iialab/info5502-spring2022/main/datasets/lab_assignment_02_denton_housing.csv) contains statistics about housing in the city of Denton from 2008 to 2014. Write a program to implement the following questions.\n",
        "\n",
        "(1) (10 pts) Calculate the difference in the number of Occupied Housing Units from year to year and print it. The difference must be calculated for the consecutive years such as 2008-2009, 2009-2010 etc. Finally, print the values in the ascending order.\n",
        "\n",
        "(2) (10 pts) For all the years, calculate the percentage of housing units which are vacant an occupied. Print the results in the following format:\n",
        "\n",
        "Year Vacant Housing Units Occupied Housing Units\n",
        "\n",
        "    2008  30%   70%                          \n",
        "\t2009 ----- -----\n",
        "\t2010 ----- -----\n",
        "    2011 ----- -----\n",
        "\t2012 ----- -----\n",
        "    2013 ----- -----\n",
        "\t2014 ----- -----\n",
        "  \n",
        "  \n",
        "\n",
        "(3) (10 pts) Calculate and print the valued and years in which the highest number of housing units were vacant and occupied. Print the results in the following format:  \n",
        "\n",
        "                              Year\tValue\n",
        "\tVacant Housing Units\t  -----   -----\n",
        "\tOccupied Housing Units\t-----   -----\n",
        "\n",
        "(4) (10 pts) Calculate the harmonic mean of the total housing units and print it out. You can find the information about harmonic mean here: https://ncalculators.com/statistics/harmonic-mean-calculator.htm"
      ]
    },
    {
      "cell_type": "code",
      "execution_count": 100,
      "metadata": {
        "id": "lqGYuHBhcsRH",
        "colab": {
          "base_uri": "https://localhost:8080/"
        },
        "outputId": "1c736b19-408c-4f29-a854-4cbf219ef619"
      },
      "outputs": [
        {
          "output_type": "execute_result",
          "data": {
            "text/plain": [
              "year           42\n",
              "title_field    42\n",
              "value          42\n",
              "dtype: int64"
            ]
          },
          "metadata": {},
          "execution_count": 100
        }
      ],
      "source": [
        "# Your code here\n",
        "\n",
        "\n",
        "import pandas as pd\n",
        "\n",
        "data = pd.read_csv('/lab_assignment_02_denton_housing.csv')\n",
        "data.count()"
      ]
    },
    {
      "cell_type": "code",
      "source": [
        "\n",
        "occupied =data[data['title_field'] == 'Occupied Housing Units'].sort_values(by=['year'])  #assigning all the occupied details to occupied\n",
        "vacant =data[data['title_field'] == 'Vacant Housing Units'].sort_values(by=['year'])\n",
        "total =data[data['title_field'] == 'Total Housing Units'].sort_values(by=['year'])\n"
      ],
      "metadata": {
        "id": "fAyl1jXtOUOX"
      },
      "execution_count": 84,
      "outputs": []
    },
    {
      "cell_type": "code",
      "source": [
        "#1 \n",
        "\n",
        "dict1 = {}\n",
        "for i in range(len(occupied)-1):\n",
        "    a = str(list(occupied['year'].values)[i])+\"-\"+str(list(occupied['year'].values)[i+1])\n",
        "    dict1[a] = list(occupied['value'].values)[i] - list(occupied['value'].values)[i+1]\n",
        "\n",
        "\n",
        "print(sorted(dict1.items(), key=lambda item: item[1]))\n"
      ],
      "metadata": {
        "colab": {
          "base_uri": "https://localhost:8080/"
        },
        "id": "1LDsHF-wQYJW",
        "outputId": "a6458680-34d1-45a3-e823-5b1ce891b64d"
      },
      "execution_count": 93,
      "outputs": [
        {
          "output_type": "stream",
          "name": "stdout",
          "text": [
            "[('2009-2010', -5091), ('2013-2014', -2622), ('2012-2013', -1565), ('2011-2012', -1404), ('2010-2011', 303), ('2008-2009', 795)]\n"
          ]
        }
      ]
    },
    {
      "cell_type": "code",
      "source": [
        "#2\n",
        "\n",
        "new_data = pd.DataFrame()\n",
        "new_data = pd.DataFrame()\n",
        "new_data['years'] = occupied['year'].values\n",
        "\n",
        "\n",
        "list1 = []\n",
        "for i in range(len(vacant)):\n",
        "        a = (list(vacant['value'].values)[i]/list(total['value'].values)[i])*100\n",
        "        list1.append(a)\n",
        "new_data['percentage vacant'] = list1\n",
        "\n",
        "\n",
        "\n",
        "list2 = []\n",
        "for j in range(len(occupied)):\n",
        "        b = (list(occupied['value'].values)[j]/list(total['value'].values)[j])*100\n",
        "        list2.append(b)\n",
        "new_data['percentage Occupied'] = list2\n",
        "\n",
        "\n",
        "new_data"
      ],
      "metadata": {
        "colab": {
          "base_uri": "https://localhost:8080/",
          "height": 269
        },
        "id": "yg__MnmMUMSm",
        "outputId": "248a7ac1-7f87-4d6b-ee82-fe7eb28b6914"
      },
      "execution_count": 99,
      "outputs": [
        {
          "output_type": "execute_result",
          "data": {
            "text/html": [
              "\n",
              "  <div id=\"df-2a9054f6-ab5d-402a-94ba-e885ee88a476\">\n",
              "    <div class=\"colab-df-container\">\n",
              "      <div>\n",
              "<style scoped>\n",
              "    .dataframe tbody tr th:only-of-type {\n",
              "        vertical-align: middle;\n",
              "    }\n",
              "\n",
              "    .dataframe tbody tr th {\n",
              "        vertical-align: top;\n",
              "    }\n",
              "\n",
              "    .dataframe thead th {\n",
              "        text-align: right;\n",
              "    }\n",
              "</style>\n",
              "<table border=\"1\" class=\"dataframe\">\n",
              "  <thead>\n",
              "    <tr style=\"text-align: right;\">\n",
              "      <th></th>\n",
              "      <th>years</th>\n",
              "      <th>percentage vacant</th>\n",
              "      <th>percentage Occupied</th>\n",
              "    </tr>\n",
              "  </thead>\n",
              "  <tbody>\n",
              "    <tr>\n",
              "      <th>0</th>\n",
              "      <td>2008</td>\n",
              "      <td>10.882653</td>\n",
              "      <td>89.117347</td>\n",
              "    </tr>\n",
              "    <tr>\n",
              "      <th>1</th>\n",
              "      <td>2009</td>\n",
              "      <td>9.071116</td>\n",
              "      <td>90.928884</td>\n",
              "    </tr>\n",
              "    <tr>\n",
              "      <th>2</th>\n",
              "      <td>2010</td>\n",
              "      <td>8.142556</td>\n",
              "      <td>91.857444</td>\n",
              "    </tr>\n",
              "    <tr>\n",
              "      <th>3</th>\n",
              "      <td>2011</td>\n",
              "      <td>9.379522</td>\n",
              "      <td>90.620478</td>\n",
              "    </tr>\n",
              "    <tr>\n",
              "      <th>4</th>\n",
              "      <td>2012</td>\n",
              "      <td>6.677600</td>\n",
              "      <td>93.322400</td>\n",
              "    </tr>\n",
              "    <tr>\n",
              "      <th>5</th>\n",
              "      <td>2013</td>\n",
              "      <td>8.801788</td>\n",
              "      <td>91.198212</td>\n",
              "    </tr>\n",
              "    <tr>\n",
              "      <th>6</th>\n",
              "      <td>2014</td>\n",
              "      <td>5.730111</td>\n",
              "      <td>94.269889</td>\n",
              "    </tr>\n",
              "  </tbody>\n",
              "</table>\n",
              "</div>\n",
              "      <button class=\"colab-df-convert\" onclick=\"convertToInteractive('df-2a9054f6-ab5d-402a-94ba-e885ee88a476')\"\n",
              "              title=\"Convert this dataframe to an interactive table.\"\n",
              "              style=\"display:none;\">\n",
              "        \n",
              "  <svg xmlns=\"http://www.w3.org/2000/svg\" height=\"24px\"viewBox=\"0 0 24 24\"\n",
              "       width=\"24px\">\n",
              "    <path d=\"M0 0h24v24H0V0z\" fill=\"none\"/>\n",
              "    <path d=\"M18.56 5.44l.94 2.06.94-2.06 2.06-.94-2.06-.94-.94-2.06-.94 2.06-2.06.94zm-11 1L8.5 8.5l.94-2.06 2.06-.94-2.06-.94L8.5 2.5l-.94 2.06-2.06.94zm10 10l.94 2.06.94-2.06 2.06-.94-2.06-.94-.94-2.06-.94 2.06-2.06.94z\"/><path d=\"M17.41 7.96l-1.37-1.37c-.4-.4-.92-.59-1.43-.59-.52 0-1.04.2-1.43.59L10.3 9.45l-7.72 7.72c-.78.78-.78 2.05 0 2.83L4 21.41c.39.39.9.59 1.41.59.51 0 1.02-.2 1.41-.59l7.78-7.78 2.81-2.81c.8-.78.8-2.07 0-2.86zM5.41 20L4 18.59l7.72-7.72 1.47 1.35L5.41 20z\"/>\n",
              "  </svg>\n",
              "      </button>\n",
              "      \n",
              "  <style>\n",
              "    .colab-df-container {\n",
              "      display:flex;\n",
              "      flex-wrap:wrap;\n",
              "      gap: 12px;\n",
              "    }\n",
              "\n",
              "    .colab-df-convert {\n",
              "      background-color: #E8F0FE;\n",
              "      border: none;\n",
              "      border-radius: 50%;\n",
              "      cursor: pointer;\n",
              "      display: none;\n",
              "      fill: #1967D2;\n",
              "      height: 32px;\n",
              "      padding: 0 0 0 0;\n",
              "      width: 32px;\n",
              "    }\n",
              "\n",
              "    .colab-df-convert:hover {\n",
              "      background-color: #E2EBFA;\n",
              "      box-shadow: 0px 1px 2px rgba(60, 64, 67, 0.3), 0px 1px 3px 1px rgba(60, 64, 67, 0.15);\n",
              "      fill: #174EA6;\n",
              "    }\n",
              "\n",
              "    [theme=dark] .colab-df-convert {\n",
              "      background-color: #3B4455;\n",
              "      fill: #D2E3FC;\n",
              "    }\n",
              "\n",
              "    [theme=dark] .colab-df-convert:hover {\n",
              "      background-color: #434B5C;\n",
              "      box-shadow: 0px 1px 3px 1px rgba(0, 0, 0, 0.15);\n",
              "      filter: drop-shadow(0px 1px 2px rgba(0, 0, 0, 0.3));\n",
              "      fill: #FFFFFF;\n",
              "    }\n",
              "  </style>\n",
              "\n",
              "      <script>\n",
              "        const buttonEl =\n",
              "          document.querySelector('#df-2a9054f6-ab5d-402a-94ba-e885ee88a476 button.colab-df-convert');\n",
              "        buttonEl.style.display =\n",
              "          google.colab.kernel.accessAllowed ? 'block' : 'none';\n",
              "\n",
              "        async function convertToInteractive(key) {\n",
              "          const element = document.querySelector('#df-2a9054f6-ab5d-402a-94ba-e885ee88a476');\n",
              "          const dataTable =\n",
              "            await google.colab.kernel.invokeFunction('convertToInteractive',\n",
              "                                                     [key], {});\n",
              "          if (!dataTable) return;\n",
              "\n",
              "          const docLinkHtml = 'Like what you see? Visit the ' +\n",
              "            '<a target=\"_blank\" href=https://colab.research.google.com/notebooks/data_table.ipynb>data table notebook</a>'\n",
              "            + ' to learn more about interactive tables.';\n",
              "          element.innerHTML = '';\n",
              "          dataTable['output_type'] = 'display_data';\n",
              "          await google.colab.output.renderOutput(dataTable, element);\n",
              "          const docLink = document.createElement('div');\n",
              "          docLink.innerHTML = docLinkHtml;\n",
              "          element.appendChild(docLink);\n",
              "        }\n",
              "      </script>\n",
              "    </div>\n",
              "  </div>\n",
              "  "
            ],
            "text/plain": [
              "   years  percentage vacant  percentage Occupied\n",
              "0   2008          10.882653            89.117347\n",
              "1   2009           9.071116            90.928884\n",
              "2   2010           8.142556            91.857444\n",
              "3   2011           9.379522            90.620478\n",
              "4   2012           6.677600            93.322400\n",
              "5   2013           8.801788            91.198212\n",
              "6   2014           5.730111            94.269889"
            ]
          },
          "metadata": {},
          "execution_count": 99
        }
      ]
    },
    {
      "cell_type": "code",
      "source": [
        "#3\n",
        "\n",
        "highest = pd.DataFrame(columns=['title_field','Year', 'Value'])\n",
        "for title_field in ['Vacant Housing Units', \"Occupied Housing Units\"]:\n",
        "  dict = {}\n",
        "  dict['title_field'] = title_field\n",
        "  dict['Year'] = data[data['title_field'] == title_field].max()[0]\n",
        "  dict['Value'] = data[data['title_field'] == title_field].max()[2]\n",
        "#adding the dict to new dataframe\n",
        "  highest = highest.append(dict, ignore_index=True)\n",
        "\n",
        "print(highest.set_index('title_field'))"
      ],
      "metadata": {
        "colab": {
          "base_uri": "https://localhost:8080/"
        },
        "id": "fUmh4ByEbPfC",
        "outputId": "c98cb4fc-5e17-4285-cffa-3fb454fb40ee"
      },
      "execution_count": 116,
      "outputs": [
        {
          "output_type": "stream",
          "name": "stdout",
          "text": [
            "                        Year  Value\n",
            "title_field                        \n",
            "Vacant Housing Units    2014   4483\n",
            "Occupied Housing Units  2014  46295\n"
          ]
        }
      ]
    },
    {
      "cell_type": "code",
      "source": [
        "#4\n",
        "\n",
        "from statistics import harmonic_mean\n",
        "\n",
        "har_mean = harmonic_mean(data[data['title_field'] == 'Total Housing Units']['value'])\n",
        "\n",
        "print(\"Harmonic Mean = \",har_mean)"
      ],
      "metadata": {
        "colab": {
          "base_uri": "https://localhost:8080/"
        },
        "id": "7tyUbeLPd0Vm",
        "outputId": "9ec1448f-8e0d-4d1c-9eb2-a46b5894d41e"
      },
      "execution_count": 118,
      "outputs": [
        {
          "output_type": "stream",
          "name": "stdout",
          "text": [
            "Harmonic Mean =  44398.28543969185\n"
          ]
        }
      ]
    }
  ],
  "metadata": {
    "colab": {
      "collapsed_sections": [],
      "name": "lab_assignment_02.ipynb",
      "provenance": [],
      "include_colab_link": true
    },
    "kernelspec": {
      "display_name": "Python 3",
      "language": "python",
      "name": "python3"
    },
    "language_info": {
      "codemirror_mode": {
        "name": "ipython",
        "version": 3
      },
      "file_extension": ".py",
      "mimetype": "text/x-python",
      "name": "python",
      "nbconvert_exporter": "python",
      "pygments_lexer": "ipython3",
      "version": "3.8.5"
    }
  },
  "nbformat": 4,
  "nbformat_minor": 0
}